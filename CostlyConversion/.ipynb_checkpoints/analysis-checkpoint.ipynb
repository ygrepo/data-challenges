{
 "cells": [
  {
   "cell_type": "code",
   "execution_count": 292,
   "metadata": {},
   "outputs": [],
   "source": [
    "import warnings\n",
    "import matplotlib.pyplot as plt\n",
    "%matplotlib inline\n",
    "warnings.filterwarnings(\"ignore\")\n",
    "import numpy as np\n",
    "import pandas as pd\n",
    "import os\n",
    "import missingno as msno\n",
    "import seaborn as sns\n",
    "from datetime import datetime, timedelta\n",
    "from statsmodels.stats.weightstats import ztest\n",
    "from  scipy.stats import chi2_contingency\n",
    "from sklearn.feature_selection import chi2"
   ]
  },
  {
   "cell_type": "code",
   "execution_count": 293,
   "metadata": {},
   "outputs": [
    {
     "data": {
      "text/plain": [
       "'/Users/yg/insight/github/data_challenges/CostlyConversion'"
      ]
     },
     "execution_count": 293,
     "metadata": {},
     "output_type": "execute_result"
    }
   ],
   "source": [
    "# checking the current directory\n",
    "os.getcwd()"
   ]
  },
  {
   "cell_type": "markdown",
   "metadata": {},
   "source": [
    "# Wrangle\n",
    "## Read in the data"
   ]
  },
  {
   "cell_type": "code",
   "execution_count": 294,
   "metadata": {},
   "outputs": [
    {
     "name": "stdout",
     "output_type": "stream",
     "text": [
      "Number of rows: 316800\n"
     ]
    },
    {
     "data": {
      "text/html": [
       "<div>\n",
       "<style scoped>\n",
       "    .dataframe tbody tr th:only-of-type {\n",
       "        vertical-align: middle;\n",
       "    }\n",
       "\n",
       "    .dataframe tbody tr th {\n",
       "        vertical-align: top;\n",
       "    }\n",
       "\n",
       "    .dataframe thead th {\n",
       "        text-align: right;\n",
       "    }\n",
       "</style>\n",
       "<table border=\"1\" class=\"dataframe\">\n",
       "  <thead>\n",
       "    <tr style=\"text-align: right;\">\n",
       "      <th></th>\n",
       "      <th>Unnamed: 0</th>\n",
       "      <th>user_id</th>\n",
       "      <th>timestamp</th>\n",
       "      <th>source</th>\n",
       "      <th>device</th>\n",
       "      <th>operative_system</th>\n",
       "      <th>test</th>\n",
       "      <th>price</th>\n",
       "      <th>converted</th>\n",
       "    </tr>\n",
       "  </thead>\n",
       "  <tbody>\n",
       "    <tr>\n",
       "      <th>0</th>\n",
       "      <td>0</td>\n",
       "      <td>604839</td>\n",
       "      <td>2015-05-08 03:38:34</td>\n",
       "      <td>ads_facebook</td>\n",
       "      <td>mobile</td>\n",
       "      <td>iOS</td>\n",
       "      <td>0</td>\n",
       "      <td>39.0</td>\n",
       "      <td>0</td>\n",
       "    </tr>\n",
       "    <tr>\n",
       "      <th>1</th>\n",
       "      <td>1</td>\n",
       "      <td>624057</td>\n",
       "      <td>2015-05-10 21:08:46</td>\n",
       "      <td>seo-google</td>\n",
       "      <td>mobile</td>\n",
       "      <td>android</td>\n",
       "      <td>0</td>\n",
       "      <td>39.0</td>\n",
       "      <td>0</td>\n",
       "    </tr>\n",
       "    <tr>\n",
       "      <th>2</th>\n",
       "      <td>2</td>\n",
       "      <td>317970</td>\n",
       "      <td>2015-04-04 15:01:23</td>\n",
       "      <td>ads-bing</td>\n",
       "      <td>mobile</td>\n",
       "      <td>android</td>\n",
       "      <td>0</td>\n",
       "      <td>39.0</td>\n",
       "      <td>0</td>\n",
       "    </tr>\n",
       "    <tr>\n",
       "      <th>3</th>\n",
       "      <td>3</td>\n",
       "      <td>685636</td>\n",
       "      <td>2015-05-07 07:26:01</td>\n",
       "      <td>direct_traffic</td>\n",
       "      <td>mobile</td>\n",
       "      <td>iOS</td>\n",
       "      <td>1</td>\n",
       "      <td>59.0</td>\n",
       "      <td>0</td>\n",
       "    </tr>\n",
       "    <tr>\n",
       "      <th>4</th>\n",
       "      <td>4</td>\n",
       "      <td>820854</td>\n",
       "      <td>2015-05-24 11:04:40</td>\n",
       "      <td>ads_facebook</td>\n",
       "      <td>web</td>\n",
       "      <td>mac</td>\n",
       "      <td>0</td>\n",
       "      <td>39.0</td>\n",
       "      <td>0</td>\n",
       "    </tr>\n",
       "  </tbody>\n",
       "</table>\n",
       "</div>"
      ],
      "text/plain": [
       "   Unnamed: 0  user_id            timestamp          source  device  \\\n",
       "0           0   604839  2015-05-08 03:38:34    ads_facebook  mobile   \n",
       "1           1   624057  2015-05-10 21:08:46      seo-google  mobile   \n",
       "2           2   317970  2015-04-04 15:01:23        ads-bing  mobile   \n",
       "3           3   685636  2015-05-07 07:26:01  direct_traffic  mobile   \n",
       "4           4   820854  2015-05-24 11:04:40    ads_facebook     web   \n",
       "\n",
       "  operative_system  test  price  converted  \n",
       "0              iOS     0   39.0          0  \n",
       "1          android     0   39.0          0  \n",
       "2          android     0   39.0          0  \n",
       "3              iOS     1   59.0          0  \n",
       "4              mac     0   39.0          0  "
      ]
     },
     "execution_count": 294,
     "metadata": {},
     "output_type": "execute_result"
    }
   ],
   "source": [
    "df = pd.read_csv('test_results.csv')\n",
    "print('Number of rows:',len(df))\n",
    "df.head()"
   ]
  },
  {
   "cell_type": "code",
   "execution_count": 295,
   "metadata": {},
   "outputs": [
    {
     "data": {
      "text/plain": [
       "Unnamed: 0            int64\n",
       "user_id               int64\n",
       "timestamp            object\n",
       "source               object\n",
       "device               object\n",
       "operative_system     object\n",
       "test                  int64\n",
       "price               float64\n",
       "converted             int64\n",
       "dtype: object"
      ]
     },
     "execution_count": 295,
     "metadata": {},
     "output_type": "execute_result"
    }
   ],
   "source": [
    "df.dtypes"
   ]
  },
  {
   "cell_type": "code",
   "execution_count": 296,
   "metadata": {},
   "outputs": [],
   "source": [
    "df.drop('Unnamed: 0', axis=1, inplace=True)"
   ]
  },
  {
   "cell_type": "code",
   "execution_count": 297,
   "metadata": {},
   "outputs": [
    {
     "data": {
      "text/plain": [
       "direct_traffic     60307\n",
       "ads-google         59319\n",
       "ads_facebook       53337\n",
       "ads_other          29849\n",
       "seo-google         23160\n",
       "ads-bing           22851\n",
       "seo_facebook       21185\n",
       "friend_referral    20672\n",
       "seo-other           9250\n",
       "ads-yahoo           7573\n",
       "seo-yahoo           6836\n",
       "seo-bing            2149\n",
       "Name: source, dtype: int64"
      ]
     },
     "execution_count": 297,
     "metadata": {},
     "output_type": "execute_result"
    }
   ],
   "source": [
    "df['source'].value_counts()"
   ]
  },
  {
   "cell_type": "code",
   "execution_count": 298,
   "metadata": {},
   "outputs": [
    {
     "data": {
      "text/plain": [
       "mobile    186471\n",
       "web       130329\n",
       "Name: device, dtype: int64"
      ]
     },
     "execution_count": 298,
     "metadata": {},
     "output_type": "execute_result"
    }
   ],
   "source": [
    "df['device'].value_counts()"
   ]
  },
  {
   "cell_type": "code",
   "execution_count": 299,
   "metadata": {},
   "outputs": [
    {
     "data": {
      "text/plain": [
       "windows    100878\n",
       "iOS         95352\n",
       "android     74856\n",
       "mac         25056\n",
       "i0S           113\n",
       "wnddows        98\n",
       "anroid         79\n",
       "apple          29\n",
       "Name: operative_system, dtype: int64"
      ]
     },
     "execution_count": 299,
     "metadata": {},
     "output_type": "execute_result"
    }
   ],
   "source": [
    "df['operative_system'].value_counts()"
   ]
  },
  {
   "cell_type": "code",
   "execution_count": 300,
   "metadata": {},
   "outputs": [],
   "source": [
    "df.operative_system[df.operative_system == 'iOS'] = 'ios'\n",
    "df.operative_system[df.operative_system == 'i0S'] = 'ios'\n",
    "df.operative_system[df.operative_system == 'wnddows'] = 'windows'\n",
    "df.operative_system[df.operative_system == 'anroid'] = 'android'\n",
    "df.operative_system[df.operative_system == 'mac'] = 'apple'"
   ]
  },
  {
   "cell_type": "code",
   "execution_count": 301,
   "metadata": {},
   "outputs": [
    {
     "data": {
      "text/plain": [
       "windows    100976\n",
       "ios         95465\n",
       "android     74935\n",
       "apple       25085\n",
       "Name: operative_system, dtype: int64"
      ]
     },
     "execution_count": 301,
     "metadata": {},
     "output_type": "execute_result"
    }
   ],
   "source": [
    "df['operative_system'].value_counts()"
   ]
  },
  {
   "cell_type": "code",
   "execution_count": 302,
   "metadata": {},
   "outputs": [
    {
     "data": {
      "text/plain": [
       "39.0           200747\n",
       "59.0           112979\n",
       "536537851.0         1\n",
       "722005503.0         1\n",
       "362003840.0         1\n",
       "361763199.0         1\n",
       "361601300.0         1\n",
       "723198958.0         1\n",
       "361468456.0         1\n",
       "361357237.0         1\n",
       "722266243.0         1\n",
       "361101880.0         1\n",
       "360980365.0         1\n",
       "719974521.0         1\n",
       "721845395.0         1\n",
       "721543996.0         1\n",
       "721022978.0         1\n",
       "720964662.0         1\n",
       "720460363.0         1\n",
       "720433591.0         1\n",
       "720424548.0         1\n",
       "720402017.0         1\n",
       "360126610.0         1\n",
       "724045060.0         1\n",
       "724296096.0         1\n",
       "724581334.0         1\n",
       "725976490.0         1\n",
       "727515407.0         1\n",
       "727478543.0         1\n",
       "727148827.0         1\n",
       "                ...  \n",
       "435371271.0         1\n",
       "870319018.0         1\n",
       "870277127.0         1\n",
       "870099143.0         1\n",
       "435019436.0         1\n",
       "873318420.0         1\n",
       "873722285.0         1\n",
       "877028844.0         1\n",
       "875685698.0         1\n",
       "876646250.0         1\n",
       "876638586.0         1\n",
       "876622876.0         1\n",
       "876405411.0         1\n",
       "876374904.0         1\n",
       "876209052.0         1\n",
       "438022557.0         1\n",
       "437892465.0         1\n",
       "875749564.0         1\n",
       "437802233.0         1\n",
       "436891064.0         1\n",
       "437723944.0         1\n",
       "875156700.0         1\n",
       "437472415.0         1\n",
       "437409266.0         1\n",
       "874802307.0         1\n",
       "874195411.0         1\n",
       "873981330.0         1\n",
       "436979943.0         1\n",
       "873865897.0         1\n",
       "537168484.0         1\n",
       "Name: price, Length: 3076, dtype: int64"
      ]
     },
     "execution_count": 302,
     "metadata": {},
     "output_type": "execute_result"
    }
   ],
   "source": [
    "df['price'].value_counts()"
   ]
  },
  {
   "cell_type": "code",
   "execution_count": 303,
   "metadata": {},
   "outputs": [],
   "source": [
    "df['price'] = df['price'].apply(lambda x: np.nan if x != 39 and x != 59 else x)"
   ]
  },
  {
   "cell_type": "code",
   "execution_count": 304,
   "metadata": {},
   "outputs": [
    {
     "data": {
      "text/plain": [
       "39.0    200747\n",
       "59.0    112979\n",
       "Name: price, dtype: int64"
      ]
     },
     "execution_count": 304,
     "metadata": {},
     "output_type": "execute_result"
    }
   ],
   "source": [
    "df['price'].value_counts()"
   ]
  },
  {
   "cell_type": "code",
   "execution_count": 305,
   "metadata": {},
   "outputs": [
    {
     "data": {
      "text/html": [
       "<div>\n",
       "<style scoped>\n",
       "    .dataframe tbody tr th:only-of-type {\n",
       "        vertical-align: middle;\n",
       "    }\n",
       "\n",
       "    .dataframe tbody tr th {\n",
       "        vertical-align: top;\n",
       "    }\n",
       "\n",
       "    .dataframe thead th {\n",
       "        text-align: right;\n",
       "    }\n",
       "</style>\n",
       "<table border=\"1\" class=\"dataframe\">\n",
       "  <thead>\n",
       "    <tr style=\"text-align: right;\">\n",
       "      <th></th>\n",
       "      <th>user_id</th>\n",
       "      <th>timestamp</th>\n",
       "      <th>source</th>\n",
       "      <th>device</th>\n",
       "      <th>operative_system</th>\n",
       "      <th>test</th>\n",
       "      <th>price</th>\n",
       "      <th>converted</th>\n",
       "    </tr>\n",
       "  </thead>\n",
       "  <tbody>\n",
       "    <tr>\n",
       "      <th>0</th>\n",
       "      <td>604839</td>\n",
       "      <td>2015-05-08 03:38:34</td>\n",
       "      <td>ads_facebook</td>\n",
       "      <td>mobile</td>\n",
       "      <td>ios</td>\n",
       "      <td>0</td>\n",
       "      <td>39.0</td>\n",
       "      <td>0</td>\n",
       "    </tr>\n",
       "    <tr>\n",
       "      <th>1</th>\n",
       "      <td>624057</td>\n",
       "      <td>2015-05-10 21:08:46</td>\n",
       "      <td>seo-google</td>\n",
       "      <td>mobile</td>\n",
       "      <td>android</td>\n",
       "      <td>0</td>\n",
       "      <td>39.0</td>\n",
       "      <td>0</td>\n",
       "    </tr>\n",
       "    <tr>\n",
       "      <th>2</th>\n",
       "      <td>317970</td>\n",
       "      <td>2015-04-04 15:01:23</td>\n",
       "      <td>ads-bing</td>\n",
       "      <td>mobile</td>\n",
       "      <td>android</td>\n",
       "      <td>0</td>\n",
       "      <td>39.0</td>\n",
       "      <td>0</td>\n",
       "    </tr>\n",
       "    <tr>\n",
       "      <th>3</th>\n",
       "      <td>685636</td>\n",
       "      <td>2015-05-07 07:26:01</td>\n",
       "      <td>direct_traffic</td>\n",
       "      <td>mobile</td>\n",
       "      <td>ios</td>\n",
       "      <td>1</td>\n",
       "      <td>59.0</td>\n",
       "      <td>0</td>\n",
       "    </tr>\n",
       "    <tr>\n",
       "      <th>4</th>\n",
       "      <td>820854</td>\n",
       "      <td>2015-05-24 11:04:40</td>\n",
       "      <td>ads_facebook</td>\n",
       "      <td>web</td>\n",
       "      <td>apple</td>\n",
       "      <td>0</td>\n",
       "      <td>39.0</td>\n",
       "      <td>0</td>\n",
       "    </tr>\n",
       "  </tbody>\n",
       "</table>\n",
       "</div>"
      ],
      "text/plain": [
       "   user_id            timestamp          source  device operative_system  \\\n",
       "0   604839  2015-05-08 03:38:34    ads_facebook  mobile              ios   \n",
       "1   624057  2015-05-10 21:08:46      seo-google  mobile          android   \n",
       "2   317970  2015-04-04 15:01:23        ads-bing  mobile          android   \n",
       "3   685636  2015-05-07 07:26:01  direct_traffic  mobile              ios   \n",
       "4   820854  2015-05-24 11:04:40    ads_facebook     web            apple   \n",
       "\n",
       "   test  price  converted  \n",
       "0     0   39.0          0  \n",
       "1     0   39.0          0  \n",
       "2     0   39.0          0  \n",
       "3     1   59.0          0  \n",
       "4     0   39.0          0  "
      ]
     },
     "execution_count": 305,
     "metadata": {},
     "output_type": "execute_result"
    }
   ],
   "source": [
    "df.head()"
   ]
  },
  {
   "cell_type": "code",
   "execution_count": 306,
   "metadata": {},
   "outputs": [
    {
     "data": {
      "text/html": [
       "<div>\n",
       "<style scoped>\n",
       "    .dataframe tbody tr th:only-of-type {\n",
       "        vertical-align: middle;\n",
       "    }\n",
       "\n",
       "    .dataframe tbody tr th {\n",
       "        vertical-align: top;\n",
       "    }\n",
       "\n",
       "    .dataframe thead th {\n",
       "        text-align: right;\n",
       "    }\n",
       "</style>\n",
       "<table border=\"1\" class=\"dataframe\">\n",
       "  <thead>\n",
       "    <tr style=\"text-align: right;\">\n",
       "      <th></th>\n",
       "      <th>Total</th>\n",
       "      <th>Percent</th>\n",
       "    </tr>\n",
       "  </thead>\n",
       "  <tbody>\n",
       "    <tr>\n",
       "      <th>operative_system</th>\n",
       "      <td>20339</td>\n",
       "      <td>6.420139</td>\n",
       "    </tr>\n",
       "    <tr>\n",
       "      <th>price</th>\n",
       "      <td>3074</td>\n",
       "      <td>0.970328</td>\n",
       "    </tr>\n",
       "    <tr>\n",
       "      <th>timestamp</th>\n",
       "      <td>334</td>\n",
       "      <td>0.105429</td>\n",
       "    </tr>\n",
       "    <tr>\n",
       "      <th>source</th>\n",
       "      <td>312</td>\n",
       "      <td>0.098485</td>\n",
       "    </tr>\n",
       "    <tr>\n",
       "      <th>converted</th>\n",
       "      <td>0</td>\n",
       "      <td>0.000000</td>\n",
       "    </tr>\n",
       "  </tbody>\n",
       "</table>\n",
       "</div>"
      ],
      "text/plain": [
       "                  Total   Percent\n",
       "operative_system  20339  6.420139\n",
       "price              3074  0.970328\n",
       "timestamp           334  0.105429\n",
       "source              312  0.098485\n",
       "converted             0  0.000000"
      ]
     },
     "execution_count": 306,
     "metadata": {},
     "output_type": "execute_result"
    }
   ],
   "source": [
    "# checking missing data in data \n",
    "total = df.isnull().sum().sort_values(ascending = False)\n",
    "percent = (df.isnull().sum()/ df.isnull().count()*100).sort_values(ascending = False)\n",
    "missing_data  = pd.concat([total, percent], axis=1, keys=['Total', 'Percent'])\n",
    "missing_data.head()"
   ]
  },
  {
   "cell_type": "code",
   "execution_count": 307,
   "metadata": {},
   "outputs": [
    {
     "data": {
      "image/png": "[encoded data removed]",
      "text/plain": [
       "<Figure size 1800x720 with 2 Axes>"
      ]
     },
     "metadata": {},
     "output_type": "display_data"
    }
   ],
   "source": [
    "msno.matrix(df);"
   ]
  },
  {
   "cell_type": "code",
   "execution_count": 308,
   "metadata": {},
   "outputs": [
    {
     "data": {
      "image/png": "[encoded data removed]",
      "text/plain": [
       "<Figure size 2160x1296 with 3 Axes>"
      ]
     },
     "metadata": {},
     "output_type": "display_data"
    }
   ],
   "source": [
    "msno.bar(df, color=\"blue\", figsize=(30,18));"
   ]
  },
  {
   "cell_type": "markdown",
   "metadata": {},
   "source": [
    "Most of the data is not missing so we can drop the nan values."
   ]
  },
  {
   "cell_type": "code",
   "execution_count": 309,
   "metadata": {},
   "outputs": [
    {
     "data": {
      "text/plain": [
       "292993"
      ]
     },
     "execution_count": 309,
     "metadata": {},
     "output_type": "execute_result"
    }
   ],
   "source": [
    "cleaned_df = df.dropna()\n",
    "len(cleaned_df)"
   ]
  },
  {
   "cell_type": "markdown",
   "metadata": {},
   "source": [
    "Drop duplicates."
   ]
  },
  {
   "cell_type": "code",
   "execution_count": 310,
   "metadata": {},
   "outputs": [
    {
     "data": {
      "text/plain": [
       "292993"
      ]
     },
     "execution_count": 310,
     "metadata": {},
     "output_type": "execute_result"
    }
   ],
   "source": [
    "cleaned_df = cleaned_df.drop_duplicates('user_id')\n",
    "len(cleaned_df)"
   ]
  },
  {
   "cell_type": "code",
   "execution_count": 311,
   "metadata": {},
   "outputs": [],
   "source": [
    "# Let's replace the converted category by a boolean (True is converted)\n",
    "cleaned_df['Converted'] = False\n",
    "cleaned_df['Converted'][cleaned_df['converted']==1] = True"
   ]
  },
  {
   "cell_type": "code",
   "execution_count": 312,
   "metadata": {},
   "outputs": [
    {
     "data": {
      "text/html": [
       "<div>\n",
       "<style scoped>\n",
       "    .dataframe tbody tr th:only-of-type {\n",
       "        vertical-align: middle;\n",
       "    }\n",
       "\n",
       "    .dataframe tbody tr th {\n",
       "        vertical-align: top;\n",
       "    }\n",
       "\n",
       "    .dataframe thead th {\n",
       "        text-align: right;\n",
       "    }\n",
       "</style>\n",
       "<table border=\"1\" class=\"dataframe\">\n",
       "  <thead>\n",
       "    <tr style=\"text-align: right;\">\n",
       "      <th></th>\n",
       "      <th>user_id</th>\n",
       "      <th>timestamp</th>\n",
       "      <th>source</th>\n",
       "      <th>device</th>\n",
       "      <th>operative_system</th>\n",
       "      <th>test</th>\n",
       "      <th>price</th>\n",
       "      <th>converted</th>\n",
       "      <th>Converted</th>\n",
       "    </tr>\n",
       "  </thead>\n",
       "  <tbody>\n",
       "    <tr>\n",
       "      <th>0</th>\n",
       "      <td>604839</td>\n",
       "      <td>2015-05-08 03:38:34</td>\n",
       "      <td>ads_facebook</td>\n",
       "      <td>mobile</td>\n",
       "      <td>ios</td>\n",
       "      <td>0</td>\n",
       "      <td>39.0</td>\n",
       "      <td>0</td>\n",
       "      <td>False</td>\n",
       "    </tr>\n",
       "    <tr>\n",
       "      <th>1</th>\n",
       "      <td>624057</td>\n",
       "      <td>2015-05-10 21:08:46</td>\n",
       "      <td>seo-google</td>\n",
       "      <td>mobile</td>\n",
       "      <td>android</td>\n",
       "      <td>0</td>\n",
       "      <td>39.0</td>\n",
       "      <td>0</td>\n",
       "      <td>False</td>\n",
       "    </tr>\n",
       "    <tr>\n",
       "      <th>2</th>\n",
       "      <td>317970</td>\n",
       "      <td>2015-04-04 15:01:23</td>\n",
       "      <td>ads-bing</td>\n",
       "      <td>mobile</td>\n",
       "      <td>android</td>\n",
       "      <td>0</td>\n",
       "      <td>39.0</td>\n",
       "      <td>0</td>\n",
       "      <td>False</td>\n",
       "    </tr>\n",
       "    <tr>\n",
       "      <th>3</th>\n",
       "      <td>685636</td>\n",
       "      <td>2015-05-07 07:26:01</td>\n",
       "      <td>direct_traffic</td>\n",
       "      <td>mobile</td>\n",
       "      <td>ios</td>\n",
       "      <td>1</td>\n",
       "      <td>59.0</td>\n",
       "      <td>0</td>\n",
       "      <td>False</td>\n",
       "    </tr>\n",
       "    <tr>\n",
       "      <th>4</th>\n",
       "      <td>820854</td>\n",
       "      <td>2015-05-24 11:04:40</td>\n",
       "      <td>ads_facebook</td>\n",
       "      <td>web</td>\n",
       "      <td>apple</td>\n",
       "      <td>0</td>\n",
       "      <td>39.0</td>\n",
       "      <td>0</td>\n",
       "      <td>False</td>\n",
       "    </tr>\n",
       "  </tbody>\n",
       "</table>\n",
       "</div>"
      ],
      "text/plain": [
       "   user_id            timestamp          source  device operative_system  \\\n",
       "0   604839  2015-05-08 03:38:34    ads_facebook  mobile              ios   \n",
       "1   624057  2015-05-10 21:08:46      seo-google  mobile          android   \n",
       "2   317970  2015-04-04 15:01:23        ads-bing  mobile          android   \n",
       "3   685636  2015-05-07 07:26:01  direct_traffic  mobile              ios   \n",
       "4   820854  2015-05-24 11:04:40    ads_facebook     web            apple   \n",
       "\n",
       "   test  price  converted  Converted  \n",
       "0     0   39.0          0      False  \n",
       "1     0   39.0          0      False  \n",
       "2     0   39.0          0      False  \n",
       "3     1   59.0          0      False  \n",
       "4     0   39.0          0      False  "
      ]
     },
     "execution_count": 312,
     "metadata": {},
     "output_type": "execute_result"
    }
   ],
   "source": [
    "cleaned_df.head()"
   ]
  },
  {
   "cell_type": "code",
   "execution_count": 313,
   "metadata": {},
   "outputs": [
    {
     "data": {
      "image/png": "[encoded data removed]",
      "text/plain": [
       "<Figure size 1080x288 with 1 Axes>"
      ]
     },
     "metadata": {},
     "output_type": "display_data"
    }
   ],
   "source": [
    "plt.figure(figsize=(15,4))\n",
    "sns.countplot(cleaned_df['Converted']);"
   ]
  },
  {
   "cell_type": "code",
   "execution_count": 314,
   "metadata": {},
   "outputs": [
    {
     "data": {
      "text/plain": [
       "False    287489\n",
       "True       5504\n",
       "Name: Converted, dtype: int64"
      ]
     },
     "execution_count": 314,
     "metadata": {},
     "output_type": "execute_result"
    }
   ],
   "source": [
    "cleaned_df['Converted'].value_counts()"
   ]
  },
  {
   "cell_type": "code",
   "execution_count": 315,
   "metadata": {},
   "outputs": [
    {
     "data": {
      "text/plain": [
       "count                  292993\n",
       "unique                 131933\n",
       "top       2015-04-12 11:51:16\n",
       "freq                       12\n",
       "Name: timestamp, dtype: object"
      ]
     },
     "execution_count": 315,
     "metadata": {},
     "output_type": "execute_result"
    }
   ],
   "source": [
    "cleaned_df.timestamp.describe()"
   ]
  },
  {
   "cell_type": "code",
   "execution_count": 316,
   "metadata": {},
   "outputs": [
    {
     "data": {
      "text/plain": [
       "user_id               int64\n",
       "timestamp            object\n",
       "source               object\n",
       "device               object\n",
       "operative_system     object\n",
       "test                  int64\n",
       "price               float64\n",
       "converted             int64\n",
       "Converted              bool\n",
       "dtype: object"
      ]
     },
     "execution_count": 316,
     "metadata": {},
     "output_type": "execute_result"
    }
   ],
   "source": [
    "cleaned_df.dtypes"
   ]
  },
  {
   "cell_type": "markdown",
   "metadata": {},
   "source": [
    "## Check the date range"
   ]
  },
  {
   "cell_type": "code",
   "execution_count": 317,
   "metadata": {},
   "outputs": [],
   "source": [
    "# Convert column datestamp from string to datetime\n",
    "cleaned_df.timestamp = pd.to_datetime(cleaned_df.timestamp, format='%Y-%m-%d %H:%M:%S', errors='coerce')\n",
    "cleaned_df.iloc[:,:] = cleaned_df[cleaned_df.timestamp.notna()]"
   ]
  },
  {
   "cell_type": "code",
   "execution_count": 318,
   "metadata": {},
   "outputs": [
    {
     "data": {
      "text/plain": [
       "292993"
      ]
     },
     "execution_count": 318,
     "metadata": {},
     "output_type": "execute_result"
    }
   ],
   "source": [
    "len(cleaned_df)"
   ]
  },
  {
   "cell_type": "code",
   "execution_count": 319,
   "metadata": {},
   "outputs": [
    {
     "data": {
      "text/plain": [
       "count                  283231\n",
       "unique                 127412\n",
       "top       2015-04-12 11:51:16\n",
       "freq                       12\n",
       "first     2015-03-02 00:04:12\n",
       "last      2015-05-31 23:59:45\n",
       "Name: timestamp, dtype: object"
      ]
     },
     "execution_count": 319,
     "metadata": {},
     "output_type": "execute_result"
    }
   ],
   "source": [
    "cleaned_df.timestamp.describe()"
   ]
  },
  {
   "cell_type": "markdown",
   "metadata": {},
   "source": [
    "The date range is from 2015-03-02 to 2015-05-31"
   ]
  },
  {
   "cell_type": "code",
   "execution_count": 320,
   "metadata": {},
   "outputs": [
    {
     "data": {
      "text/plain": [
       "0.0    181513\n",
       "1.0    101718\n",
       "Name: test, dtype: int64"
      ]
     },
     "execution_count": 320,
     "metadata": {},
     "output_type": "execute_result"
    }
   ],
   "source": [
    "cleaned_df['test'].value_counts()"
   ]
  },
  {
   "cell_type": "markdown",
   "metadata": {},
   "source": [
    "Test group is half of the control group."
   ]
  },
  {
   "cell_type": "code",
   "execution_count": 321,
   "metadata": {},
   "outputs": [
    {
     "name": "stdout",
     "output_type": "stream",
     "text": [
      "Number of rows: 275616\n",
      "                city country    lat    long\n",
      "user_id                                    \n",
      "510335       Peabody     USA  42.53  -70.97\n",
      "89568           Reno     USA  39.54 -119.82\n",
      "434134        Rialto     USA  34.11 -117.39\n",
      "289769   Carson City     USA  39.15 -119.74\n",
      "939586       Chicago     USA  41.84  -87.68\n",
      "Shape of the user_table:  (275616, 4)\n"
     ]
    }
   ],
   "source": [
    "# Load the user table\n",
    "user_table = pd.read_csv(\"user_table.csv\", index_col='user_id')\n",
    "print('Number of rows:',len(user_table))\n",
    "print(user_table.head())\n",
    "print(\"Shape of the user_table: \", user_table.shape)"
   ]
  },
  {
   "cell_type": "code",
   "execution_count": 322,
   "metadata": {},
   "outputs": [
    {
     "data": {
      "text/plain": [
       "USA    275616\n",
       "Name: country, dtype: int64"
      ]
     },
     "execution_count": 322,
     "metadata": {},
     "output_type": "execute_result"
    }
   ],
   "source": [
    "user_table['country'].value_counts()"
   ]
  },
  {
   "cell_type": "markdown",
   "metadata": {},
   "source": [
    "# EDA"
   ]
  },
  {
   "cell_type": "code",
   "execution_count": 323,
   "metadata": {},
   "outputs": [
    {
     "name": "stdout",
     "output_type": "stream",
     "text": [
      "0.3591344167834736\n",
      "0.018790316031790304\n"
     ]
    }
   ],
   "source": [
    "print(cleaned_df.test.mean())\n",
    "print(cleaned_df.converted.mean())"
   ]
  },
  {
   "cell_type": "markdown",
   "metadata": {},
   "source": [
    "36% of users see a higher price. The overall converted rate is only 1.8%."
   ]
  },
  {
   "cell_type": "code",
   "execution_count": 324,
   "metadata": {},
   "outputs": [],
   "source": [
    "def get_convertion_rate(pd_data, group='all'):\n",
    "    df = None\n",
    "    if group=='control':\n",
    "        df = pd_data[pd_data.test==0]\n",
    "    elif group=='test':\n",
    "        df = pd_data[pd_data.test==1]\n",
    "    else:\n",
    "        df = pd_data\n",
    "    \n",
    "    output = df.groupby(by=pd_data.timestamp\n",
    "                                 .apply(lambda stamp: datetime.date(stamp))\n",
    "                                )['converted'].count().reset_index(name='visit_count')\n",
    "    output['purchased_count'] = df.groupby(by=pd_data.timestamp\n",
    "                                                    .apply(lambda stamp: datetime.date(stamp))\n",
    "                                    )['converted'].sum().values\n",
    "    output['convertion_rate'] = output['purchased_count']/output['visit_count']\n",
    "    return output[output.convertion_rate.notna()]\n",
    "\n",
    "\n",
    "# Get the convertion rate for the three groups: all, control, and test\n",
    "all_convertion_rate = get_convertion_rate(cleaned_df, group='all')\n",
    "control_convertion_rate = get_convertion_rate(cleaned_df, group='control')\n",
    "test_convertion_rate = get_convertion_rate(cleaned_df, group='test')"
   ]
  },
  {
   "cell_type": "code",
   "execution_count": 325,
   "metadata": {},
   "outputs": [
    {
     "name": "stdout",
     "output_type": "stream",
     "text": [
      "The number of entries in the all_convertion_rate group is 91.\n",
      "The number of entries in the control_convertion_rate group is 91.\n",
      "The number of entries in the test_convertion_rate group is 91.\n"
     ]
    }
   ],
   "source": [
    "print(f'The number of entries in the all_convertion_rate group is {len(all_convertion_rate)}.')\n",
    "print(f'The number of entries in the control_convertion_rate group is {len(control_convertion_rate)}.')\n",
    "print(f'The number of entries in the test_convertion_rate group is {len(test_convertion_rate)}.')"
   ]
  },
  {
   "cell_type": "code",
   "execution_count": 326,
   "metadata": {},
   "outputs": [
    {
     "data": {
      "text/html": [
       "<div>\n",
       "<style scoped>\n",
       "    .dataframe tbody tr th:only-of-type {\n",
       "        vertical-align: middle;\n",
       "    }\n",
       "\n",
       "    .dataframe tbody tr th {\n",
       "        vertical-align: top;\n",
       "    }\n",
       "\n",
       "    .dataframe thead th {\n",
       "        text-align: right;\n",
       "    }\n",
       "</style>\n",
       "<table border=\"1\" class=\"dataframe\">\n",
       "  <thead>\n",
       "    <tr style=\"text-align: right;\">\n",
       "      <th></th>\n",
       "      <th>timestamp</th>\n",
       "      <th>visit_count</th>\n",
       "      <th>purchased_count</th>\n",
       "      <th>convertion_rate</th>\n",
       "    </tr>\n",
       "  </thead>\n",
       "  <tbody>\n",
       "    <tr>\n",
       "      <th>0</th>\n",
       "      <td>2015-03-02</td>\n",
       "      <td>924</td>\n",
       "      <td>16.0</td>\n",
       "      <td>0.017316</td>\n",
       "    </tr>\n",
       "    <tr>\n",
       "      <th>1</th>\n",
       "      <td>2015-03-03</td>\n",
       "      <td>830</td>\n",
       "      <td>19.0</td>\n",
       "      <td>0.022892</td>\n",
       "    </tr>\n",
       "    <tr>\n",
       "      <th>2</th>\n",
       "      <td>2015-03-04</td>\n",
       "      <td>856</td>\n",
       "      <td>27.0</td>\n",
       "      <td>0.031542</td>\n",
       "    </tr>\n",
       "    <tr>\n",
       "      <th>3</th>\n",
       "      <td>2015-03-05</td>\n",
       "      <td>1563</td>\n",
       "      <td>44.0</td>\n",
       "      <td>0.028151</td>\n",
       "    </tr>\n",
       "    <tr>\n",
       "      <th>4</th>\n",
       "      <td>2015-03-06</td>\n",
       "      <td>4136</td>\n",
       "      <td>73.0</td>\n",
       "      <td>0.017650</td>\n",
       "    </tr>\n",
       "  </tbody>\n",
       "</table>\n",
       "</div>"
      ],
      "text/plain": [
       "    timestamp  visit_count  purchased_count  convertion_rate\n",
       "0  2015-03-02          924             16.0         0.017316\n",
       "1  2015-03-03          830             19.0         0.022892\n",
       "2  2015-03-04          856             27.0         0.031542\n",
       "3  2015-03-05         1563             44.0         0.028151\n",
       "4  2015-03-06         4136             73.0         0.017650"
      ]
     },
     "execution_count": 326,
     "metadata": {},
     "output_type": "execute_result"
    }
   ],
   "source": [
    "control_convertion_rate.head()"
   ]
  },
  {
   "cell_type": "markdown",
   "metadata": {},
   "source": [
    "## Plot the conversion rates"
   ]
  },
  {
   "cell_type": "code",
   "execution_count": 327,
   "metadata": {},
   "outputs": [
    {
     "data": {
      "image/png": "[encoded data removed]",
      "text/plain": [
       "<Figure size 720x432 with 1 Axes>"
      ]
     },
     "metadata": {},
     "output_type": "display_data"
    }
   ],
   "source": [
    "# Create convertion_rate and rolling_average_rate for test and control\n",
    "control_convertion_rate['convertion_rate_control'] = control_convertion_rate['convertion_rate']\n",
    "test_convertion_rate['convertion_rate_test'] = test_convertion_rate['convertion_rate']\n",
    "control_convertion_rate['rolling_average_control'] = control_convertion_rate['convertion_rate'].rolling(7).mean()\n",
    "test_convertion_rate['rolling_average_test'] = test_convertion_rate['convertion_rate'].rolling(7).mean()\n",
    "\n",
    "# Plot convertion rate \n",
    "ax = control_convertion_rate.plot(kind='line', x='timestamp', y=['convertion_rate_control', 'rolling_average_control'], \n",
    "                                  title=\"Daily convertion rate for the control and test group\",figsize=(10,6),\n",
    "                                 )\n",
    "test_convertion_rate.plot(kind='line', x='timestamp', y=['convertion_rate_test', 'rolling_average_test'], ax=ax)\n",
    "ax.set_ylabel(\"Conversion rate\");"
   ]
  },
  {
   "cell_type": "markdown",
   "metadata": {},
   "source": [
    "Daily convertion rates are similar for the control and test groups."
   ]
  },
  {
   "cell_type": "markdown",
   "metadata": {},
   "source": [
    "## Ztest to check if increasing the price improves overall revenue"
   ]
  },
  {
   "cell_type": "markdown",
   "metadata": {},
   "source": [
    "Null hypothesis: No change. \n",
    "Set alpha value to 0.2%."
   ]
  },
  {
   "cell_type": "code",
   "execution_count": 328,
   "metadata": {},
   "outputs": [],
   "source": [
    "# Find the pvalue\n",
    "_, pvalue = ztest(x2=control_convertion_rate.convertion_rate*39, x1=test_convertion_rate.convertion_rate*59)"
   ]
  },
  {
   "cell_type": "code",
   "execution_count": 329,
   "metadata": {},
   "outputs": [
    {
     "name": "stdout",
     "output_type": "stream",
     "text": [
      "The pvalue is 0.0008407142710225079.\n"
     ]
    }
   ],
   "source": [
    "print(f'The pvalue is {pvalue}.')"
   ]
  },
  {
   "cell_type": "markdown",
   "metadata": {},
   "source": [
    " We reject the null hypothesis: increase the price."
   ]
  },
  {
   "cell_type": "code",
   "execution_count": 330,
   "metadata": {},
   "outputs": [
    {
     "name": "stdout",
     "output_type": "stream",
     "text": [
      "Expected revenue for the control group per visit: 0.7960099608752432\n",
      "Expected revenue for the test group per visit: 0.9078558938104097\n",
      "Expected revenue increase for the test group in %: 14.050820772668168\n"
     ]
    }
   ],
   "source": [
    "revenue_control = control_convertion_rate.convertion_rate.mean()\n",
    "revenue_test = test_convertion_rate.convertion_rate.mean()\n",
    "\n",
    "control_price = 39\n",
    "test_price = 59\n",
    "\n",
    "print(\"Expected revenue for the control group per visit:\", revenue_control*control_price)\n",
    "print(\"Expected revenue for the test group per visit:\", revenue_test*test_price)\n",
    "print(\"Expected revenue increase for the test group in %:\", ((revenue_test*test_price)-(revenue_control*control_price))/(revenue_control*control_price)*100)"
   ]
  },
  {
   "cell_type": "markdown",
   "metadata": {},
   "source": [
    "## What drives conversion rate?"
   ]
  },
  {
   "cell_type": "code",
   "execution_count": 331,
   "metadata": {},
   "outputs": [],
   "source": [
    "def get_category_conversion(pd_data, column='device'):\n",
    "    df = pd_data.groupby(by=column)['converted'].count().reset_index(name='visit')\n",
    "    df['purchased'] = pd_data.groupby(by=column)['converted'].sum().values\n",
    "    df['conversion_rate']=df['purchased']/df['visit']\n",
    "    return df"
   ]
  },
  {
   "cell_type": "code",
   "execution_count": 332,
   "metadata": {},
   "outputs": [
    {
     "name": "stdout",
     "output_type": "stream",
     "text": [
      "   device   visit  purchased  conversion_rate\n",
      "0  mobile  162718     3111.0         0.019119\n",
      "1     web  120513     2211.0         0.018347\n",
      "chi2 for device is 0.14566831287300247\n"
     ]
    }
   ],
   "source": [
    "# Check device drives conversion\n",
    "devices_conversion = get_category_conversion(cleaned_df, column='device')\n",
    "print(devices_conversion)\n",
    "_, p, _, _ = chi2_contingency(devices_conversion[['visit','purchased']])\n",
    "print(\"chi2 for device is\", p)"
   ]
  },
  {
   "cell_type": "code",
   "execution_count": 333,
   "metadata": {},
   "outputs": [
    {
     "name": "stdout",
     "output_type": "stream",
     "text": [
      "             source  visit  purchased  conversion_rate\n",
      "0          ads-bing  20450      254.0         0.012421\n",
      "1        ads-google  53173     1159.0         0.021797\n",
      "2         ads-yahoo   6744      100.0         0.014828\n",
      "3      ads_facebook  47682     1043.0         0.021874\n",
      "4         ads_other  26717      388.0         0.014523\n",
      "5    direct_traffic  54035      685.0         0.012677\n",
      "6   friend_referral  18575      738.0         0.039731\n",
      "7          seo-bing   1944       48.0         0.024691\n",
      "8        seo-google  20673      353.0         0.017075\n",
      "9         seo-other   8314      136.0         0.016358\n",
      "10        seo-yahoo   6154      102.0         0.016575\n",
      "11     seo_facebook  18770      316.0         0.016835\n",
      "chi2 for sources is 1.2310704260792514e-134\n"
     ]
    }
   ],
   "source": [
    "# Check source drives conversion\n",
    "source_conversion = get_category_conversion(cleaned_df, column='source')\n",
    "print(source_conversion)\n",
    "_, p, _, _   = chi2_contingency(source_conversion[['visit','purchased']])\n",
    "print(\"chi2 for sources is\", p)"
   ]
  },
  {
   "cell_type": "code",
   "execution_count": 334,
   "metadata": {},
   "outputs": [
    {
     "name": "stdout",
     "output_type": "stream",
     "text": [
      "                  visit  purchased  conversion_rate\n",
      "operative_system                                   \n",
      "android           71446     1065.0         0.014906\n",
      "ios               91272     2046.0         0.022417\n",
      "apple             24034      573.0         0.023841\n",
      "windows           96479     1638.0         0.016978\n",
      "chi2 for operative_system is 4.5334790302052836e-36\n"
     ]
    }
   ],
   "source": [
    "# Check operative_system conversion\n",
    "operative_system_conversion = get_category_conversion(cleaned_df, column='operative_system')\n",
    "operative_system_conversion= operative_system_conversion.set_index('operative_system')\n",
    "operative_system_conversion = operative_system_conversion.loc[['android','ios','apple','windows'],:]\n",
    "print(operative_system_conversion)\n",
    "_, p, _, _  = chi2_contingency(operative_system_conversion.loc[['android','ios','apple','windows'], ['visit','purchased']])\n",
    "print(\"chi2 for operative_system is\", p)"
   ]
  },
  {
   "cell_type": "code",
   "execution_count": 335,
   "metadata": {},
   "outputs": [
    {
     "name": "stdout",
     "output_type": "stream",
     "text": [
      "          city  visit  purchased  conversion_rate\n",
      "0      Abilene    129        6.0         0.046512\n",
      "1        Akron     90        2.0         0.022222\n",
      "2      Alameda     55        1.0         0.018182\n",
      "3       Albany    165        2.0         0.012121\n",
      "4  Albuquerque      1        0.0         0.000000\n",
      "chi2 for sources is 0.82990248568968\n"
     ]
    }
   ],
   "source": [
    "# Check city drives conversion\n",
    "results_city = cleaned_df.join(user_table, rsuffix='_user')\n",
    "city_conversion = get_category_conversion(results_city, column='city')\n",
    "print(city_conversion.head())\n",
    "_, p, _, _   = chi2_contingency(city_conversion[['visit','purchased']])\n",
    "print(\"chi2 for sources is\", p)"
   ]
  },
  {
   "cell_type": "markdown",
   "metadata": {},
   "source": [
    "Test by location (by city) and test using phone or laptop."
   ]
  },
  {
   "cell_type": "markdown",
   "metadata": {},
   "source": [
    "## How long should be the experiment?"
   ]
  },
  {
   "cell_type": "code",
   "execution_count": 336,
   "metadata": {},
   "outputs": [],
   "source": [
    "min_date = min(cleaned_df['timestamp'])\n",
    "max_date = max(cleaned_df['timestamp'])\n",
    "\n",
    "# date list\n",
    "num_days = (max_date - min_date).days + 1\n",
    "date_list = [min_date + timedelta(days=day_count) for day_count in range(1, num_days+1)]"
   ]
  },
  {
   "cell_type": "code",
   "execution_count": 337,
   "metadata": {},
   "outputs": [],
   "source": [
    "chi2_result = []\n",
    "for date in date_list:\n",
    "    chi2_result.append(chi2(cleaned_df[cleaned_df.timestamp<=date].test.values.reshape(-1, 1), cleaned_df[cleaned_df.timestamp<=date].converted.values.reshape(-1, 1))[1])"
   ]
  },
  {
   "cell_type": "code",
   "execution_count": 338,
   "metadata": {},
   "outputs": [
    {
     "data": {
      "image/png": "[encoded data removed]",
      "text/plain": [
       "<Figure size 720x432 with 1 Axes>"
      ]
     },
     "metadata": {},
     "output_type": "display_data"
    }
   ],
   "source": [
    "Chi_test=plt.figure(figsize=(10,6))\n",
    "plt.title('Chi-Squared Test Overtime', fontsize=14, fontweight='demi')\n",
    "plt.plot(date_list, chi2_result, color = 'peru', label = 'p-value')\n",
    "plt.legend()\n",
    "plt.show()"
   ]
  },
  {
   "cell_type": "code",
   "execution_count": 339,
   "metadata": {},
   "outputs": [
    {
     "name": "stdout",
     "output_type": "stream",
     "text": [
      "Confidence level at 95% meaningful after:14\n",
      "Confidence level at 99% meaningful after:24\n"
     ]
    }
   ],
   "source": [
    "for days, pval in enumerate(chi2_result):\n",
    "    if pval > 0.05:\n",
    "        conf_level_95 = days\n",
    "    if pval > 0.01:\n",
    "        conf_level_99 = days\n",
    "print(f'Confidence level at 95% meaningful after:{conf_level_95}')\n",
    "print(f'Confidence level at 99% meaningful after:{conf_level_99}')"
   ]
  },
  {
   "cell_type": "markdown",
   "metadata": {},
   "source": [
    "The experiment get significant result after 14 days for confidence level 95% or 24 days for confidence level 99%. \n",
    "The experiment doesn't have to be 3 months."
   ]
  },
  {
   "cell_type": "markdown",
   "metadata": {},
   "source": [
    "## Conclusion\n",
    "\n",
    "The experiment should have been monitored \n",
    "and stopped when the increased revenue was sufficiently significant. \n",
    "This would have saved some money."
   ]
  },
  {
   "cell_type": "code",
   "execution_count": null,
   "metadata": {},
   "outputs": [],
   "source": []
  }
 ],
 "metadata": {
  "kernelspec": {
   "display_name": "Python 3",
   "language": "python",
   "name": "python3"
  },
  "language_info": {
   "codemirror_mode": {
    "name": "ipython",
    "version": 3
   },
   "file_extension": ".py",
   "mimetype": "text/x-python",
   "name": "python",
   "nbconvert_exporter": "python",
   "pygments_lexer": "ipython3",
   "version": "3.6.6"
  }
 },
 "nbformat": 4,
 "nbformat_minor": 2
}
