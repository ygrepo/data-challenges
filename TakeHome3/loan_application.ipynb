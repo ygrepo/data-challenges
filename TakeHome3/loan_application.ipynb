{
 "cells": [
  {
   "cell_type": "code",
   "execution_count": 1,
   "metadata": {},
   "outputs": [],
   "source": [
    "# Python Libraries\n",
    "import numpy as np\n",
    "from scipy import stats\n",
    "import pandas as pd\n",
    "pd.set_option('display.max_columns',100)\n",
    "pd.set_option('display.max_rows', 100)\n",
    "import matplotlib.pyplot as plt\n",
    "plt.style.use('ggplot')\n",
    "import missingno as msno\n",
    "import seaborn as sns\n",
    "from datetime import date,datetime, timedelta\n",
    "import os\n",
    "import sys\n",
    "import requests\n",
    "import json\n",
    "\n",
    "import warnings\n",
    "warnings.filterwarnings('ignore') "
   ]
  },
  {
   "cell_type": "code",
   "execution_count": 2,
   "metadata": {},
   "outputs": [],
   "source": [
    "%load_ext autoreload\n",
    "%autoreload 2"
   ]
  },
  {
   "cell_type": "code",
   "execution_count": 3,
   "metadata": {},
   "outputs": [],
   "source": [
    "pd.set_option('display.float_format', lambda x: '%.3f' % x)"
   ]
  },
  {
   "cell_type": "markdown",
   "metadata": {},
   "source": [
    "# Loan Application"
   ]
  },
  {
   "cell_type": "markdown",
   "metadata": {},
   "source": [
    "## We would like to know:\n",
    "1. How does the conversion rate change over time? Are we doing better or worse? In particular, what about loans from the last 30 or last 60 days?\n",
    "2. What about the time to conversion? Are people converting faster or does it take longer?\n"
   ]
  },
  {
   "cell_type": "code",
   "execution_count": 4,
   "metadata": {},
   "outputs": [
    {
     "name": "stdout",
     "output_type": "stream",
     "text": [
      "Number of rows: 5143\n"
     ]
    },
    {
     "data": {
      "text/html": [
       "<div>\n",
       "<style scoped>\n",
       "    .dataframe tbody tr th:only-of-type {\n",
       "        vertical-align: middle;\n",
       "    }\n",
       "\n",
       "    .dataframe tbody tr th {\n",
       "        vertical-align: top;\n",
       "    }\n",
       "\n",
       "    .dataframe thead th {\n",
       "        text-align: right;\n",
       "    }\n",
       "</style>\n",
       "<table border=\"1\" class=\"dataframe\">\n",
       "  <thead>\n",
       "    <tr style=\"text-align: right;\">\n",
       "      <th></th>\n",
       "      <th>amount</th>\n",
       "      <th>address</th>\n",
       "      <th>created</th>\n",
       "      <th>funded</th>\n",
       "    </tr>\n",
       "  </thead>\n",
       "  <tbody>\n",
       "    <tr>\n",
       "      <th>0</th>\n",
       "      <td>568705.000</td>\n",
       "      <td>22226 Brookpine, Mission Viejo CA 92692</td>\n",
       "      <td>2016-12-20T07:16:04.778800+00:00</td>\n",
       "      <td>NaN</td>\n",
       "    </tr>\n",
       "    <tr>\n",
       "      <th>1</th>\n",
       "      <td>413165.000</td>\n",
       "      <td>124 Vignolia Court, Roseville CA 95747</td>\n",
       "      <td>2016-10-11T20:35:19.951835+00:00</td>\n",
       "      <td>2016-11-07T00:00:00+00:00</td>\n",
       "    </tr>\n",
       "    <tr>\n",
       "      <th>2</th>\n",
       "      <td>584083.000</td>\n",
       "      <td>13909 Via Del Jamul Dr, Jamul CA 91935</td>\n",
       "      <td>2017-08-08T03:23:04.349419+00:00</td>\n",
       "      <td>NaN</td>\n",
       "    </tr>\n",
       "    <tr>\n",
       "      <th>3</th>\n",
       "      <td>258680.000</td>\n",
       "      <td>13209 N Mayfair Ln, Spokane WA 99208</td>\n",
       "      <td>2017-05-25T19:06:01.525985+00:00</td>\n",
       "      <td>NaN</td>\n",
       "    </tr>\n",
       "    <tr>\n",
       "      <th>4</th>\n",
       "      <td>170180.000</td>\n",
       "      <td>205 Cottontail Ln, Elkin NC 28621</td>\n",
       "      <td>2017-03-02T19:40:13.319275+00:00</td>\n",
       "      <td>NaN</td>\n",
       "    </tr>\n",
       "  </tbody>\n",
       "</table>\n",
       "</div>"
      ],
      "text/plain": [
       "      amount                                  address  \\\n",
       "0 568705.000  22226 Brookpine, Mission Viejo CA 92692   \n",
       "1 413165.000   124 Vignolia Court, Roseville CA 95747   \n",
       "2 584083.000   13909 Via Del Jamul Dr, Jamul CA 91935   \n",
       "3 258680.000     13209 N Mayfair Ln, Spokane WA 99208   \n",
       "4 170180.000        205 Cottontail Ln, Elkin NC 28621   \n",
       "\n",
       "                            created                     funded  \n",
       "0  2016-12-20T07:16:04.778800+00:00                        NaN  \n",
       "1  2016-10-11T20:35:19.951835+00:00  2016-11-07T00:00:00+00:00  \n",
       "2  2017-08-08T03:23:04.349419+00:00                        NaN  \n",
       "3  2017-05-25T19:06:01.525985+00:00                        NaN  \n",
       "4  2017-03-02T19:40:13.319275+00:00                        NaN  "
      ]
     },
     "execution_count": 4,
     "metadata": {},
     "output_type": "execute_result"
    }
   ],
   "source": [
    "df = pd.read_csv(\"data/loans.csv\", sep=\",\", names=[\"amount\", \"address\", \"created\", \"funded\"])\n",
    "print(\"Number of rows:\",len(df))\n",
    "df.head()"
   ]
  },
  {
   "cell_type": "code",
   "execution_count": 5,
   "metadata": {},
   "outputs": [],
   "source": [
    "df[\"created\"] = pd.to_datetime(df[\"created\"])\n",
    "df[\"created\"] = df[\"created\"].values.astype(\"datetime64[D]\")\n",
    "df[\"funded\"] = pd.to_datetime(df[\"funded\"])\n",
    "df[\"funded\"] = df[\"funded\"].values.astype(\"datetime64[D]\")"
   ]
  },
  {
   "cell_type": "code",
   "execution_count": 6,
   "metadata": {},
   "outputs": [
    {
     "data": {
      "text/html": [
       "<div>\n",
       "<style scoped>\n",
       "    .dataframe tbody tr th:only-of-type {\n",
       "        vertical-align: middle;\n",
       "    }\n",
       "\n",
       "    .dataframe tbody tr th {\n",
       "        vertical-align: top;\n",
       "    }\n",
       "\n",
       "    .dataframe thead th {\n",
       "        text-align: right;\n",
       "    }\n",
       "</style>\n",
       "<table border=\"1\" class=\"dataframe\">\n",
       "  <thead>\n",
       "    <tr style=\"text-align: right;\">\n",
       "      <th></th>\n",
       "      <th>amount</th>\n",
       "      <th>address</th>\n",
       "      <th>created</th>\n",
       "      <th>funded</th>\n",
       "    </tr>\n",
       "  </thead>\n",
       "  <tbody>\n",
       "    <tr>\n",
       "      <th>0</th>\n",
       "      <td>568705.000</td>\n",
       "      <td>22226 Brookpine, Mission Viejo CA 92692</td>\n",
       "      <td>2016-12-20</td>\n",
       "      <td>NaT</td>\n",
       "    </tr>\n",
       "    <tr>\n",
       "      <th>1</th>\n",
       "      <td>413165.000</td>\n",
       "      <td>124 Vignolia Court, Roseville CA 95747</td>\n",
       "      <td>2016-10-11</td>\n",
       "      <td>2016-11-07</td>\n",
       "    </tr>\n",
       "    <tr>\n",
       "      <th>2</th>\n",
       "      <td>584083.000</td>\n",
       "      <td>13909 Via Del Jamul Dr, Jamul CA 91935</td>\n",
       "      <td>2017-08-08</td>\n",
       "      <td>NaT</td>\n",
       "    </tr>\n",
       "    <tr>\n",
       "      <th>3</th>\n",
       "      <td>258680.000</td>\n",
       "      <td>13209 N Mayfair Ln, Spokane WA 99208</td>\n",
       "      <td>2017-05-25</td>\n",
       "      <td>NaT</td>\n",
       "    </tr>\n",
       "    <tr>\n",
       "      <th>4</th>\n",
       "      <td>170180.000</td>\n",
       "      <td>205 Cottontail Ln, Elkin NC 28621</td>\n",
       "      <td>2017-03-02</td>\n",
       "      <td>NaT</td>\n",
       "    </tr>\n",
       "  </tbody>\n",
       "</table>\n",
       "</div>"
      ],
      "text/plain": [
       "      amount                                  address    created     funded\n",
       "0 568705.000  22226 Brookpine, Mission Viejo CA 92692 2016-12-20        NaT\n",
       "1 413165.000   124 Vignolia Court, Roseville CA 95747 2016-10-11 2016-11-07\n",
       "2 584083.000   13909 Via Del Jamul Dr, Jamul CA 91935 2017-08-08        NaT\n",
       "3 258680.000     13209 N Mayfair Ln, Spokane WA 99208 2017-05-25        NaT\n",
       "4 170180.000        205 Cottontail Ln, Elkin NC 28621 2017-03-02        NaT"
      ]
     },
     "execution_count": 6,
     "metadata": {},
     "output_type": "execute_result"
    }
   ],
   "source": [
    "df.head(5)"
   ]
  },
  {
   "cell_type": "code",
   "execution_count": 7,
   "metadata": {},
   "outputs": [
    {
     "data": {
      "image/png": "[encoded data removed]",
      "text/plain": [
       "<Figure size 1800x720 with 2 Axes>"
      ]
     },
     "metadata": {
      "needs_background": "light"
     },
     "output_type": "display_data"
    }
   ],
   "source": [
    "msno.matrix(df);"
   ]
  },
  {
   "cell_type": "code",
   "execution_count": 8,
   "metadata": {},
   "outputs": [
    {
     "data": {
      "text/html": [
       "<div>\n",
       "<style scoped>\n",
       "    .dataframe tbody tr th:only-of-type {\n",
       "        vertical-align: middle;\n",
       "    }\n",
       "\n",
       "    .dataframe tbody tr th {\n",
       "        vertical-align: top;\n",
       "    }\n",
       "\n",
       "    .dataframe thead th {\n",
       "        text-align: right;\n",
       "    }\n",
       "</style>\n",
       "<table border=\"1\" class=\"dataframe\">\n",
       "  <thead>\n",
       "    <tr style=\"text-align: right;\">\n",
       "      <th></th>\n",
       "      <th>Total</th>\n",
       "      <th>Percent</th>\n",
       "    </tr>\n",
       "  </thead>\n",
       "  <tbody>\n",
       "    <tr>\n",
       "      <th>funded</th>\n",
       "      <td>4088</td>\n",
       "      <td>79.487</td>\n",
       "    </tr>\n",
       "    <tr>\n",
       "      <th>created</th>\n",
       "      <td>0</td>\n",
       "      <td>0.000</td>\n",
       "    </tr>\n",
       "    <tr>\n",
       "      <th>address</th>\n",
       "      <td>0</td>\n",
       "      <td>0.000</td>\n",
       "    </tr>\n",
       "    <tr>\n",
       "      <th>amount</th>\n",
       "      <td>0</td>\n",
       "      <td>0.000</td>\n",
       "    </tr>\n",
       "  </tbody>\n",
       "</table>\n",
       "</div>"
      ],
      "text/plain": [
       "         Total  Percent\n",
       "funded    4088   79.487\n",
       "created      0    0.000\n",
       "address      0    0.000\n",
       "amount       0    0.000"
      ]
     },
     "execution_count": 8,
     "metadata": {},
     "output_type": "execute_result"
    }
   ],
   "source": [
    "# Computing missing data. \n",
    "total = df.isnull().sum().sort_values(ascending = False)\n",
    "percent = (df.isnull().sum()/df.isnull().count()*100).sort_values(ascending = False)\n",
    "missing_data  = pd.concat([total, percent], axis=1, keys=[\"Total\", \"Percent\"])\n",
    "missing_data.head()"
   ]
  },
  {
   "cell_type": "code",
   "execution_count": 9,
   "metadata": {},
   "outputs": [
    {
     "data": {
      "text/html": [
       "<div>\n",
       "<style scoped>\n",
       "    .dataframe tbody tr th:only-of-type {\n",
       "        vertical-align: middle;\n",
       "    }\n",
       "\n",
       "    .dataframe tbody tr th {\n",
       "        vertical-align: top;\n",
       "    }\n",
       "\n",
       "    .dataframe thead th {\n",
       "        text-align: right;\n",
       "    }\n",
       "</style>\n",
       "<table border=\"1\" class=\"dataframe\">\n",
       "  <thead>\n",
       "    <tr style=\"text-align: right;\">\n",
       "      <th></th>\n",
       "      <th>amount</th>\n",
       "    </tr>\n",
       "  </thead>\n",
       "  <tbody>\n",
       "    <tr>\n",
       "      <th>count</th>\n",
       "      <td>5143.000</td>\n",
       "    </tr>\n",
       "    <tr>\n",
       "      <th>mean</th>\n",
       "      <td>382389.443</td>\n",
       "    </tr>\n",
       "    <tr>\n",
       "      <th>std</th>\n",
       "      <td>1271107.565</td>\n",
       "    </tr>\n",
       "    <tr>\n",
       "      <th>min</th>\n",
       "      <td>9.000</td>\n",
       "    </tr>\n",
       "    <tr>\n",
       "      <th>25%</th>\n",
       "      <td>216656.500</td>\n",
       "    </tr>\n",
       "    <tr>\n",
       "      <th>50%</th>\n",
       "      <td>317937.000</td>\n",
       "    </tr>\n",
       "    <tr>\n",
       "      <th>75%</th>\n",
       "      <td>421659.000</td>\n",
       "    </tr>\n",
       "    <tr>\n",
       "      <th>max</th>\n",
       "      <td>57762492.000</td>\n",
       "    </tr>\n",
       "  </tbody>\n",
       "</table>\n",
       "</div>"
      ],
      "text/plain": [
       "            amount\n",
       "count     5143.000\n",
       "mean    382389.443\n",
       "std    1271107.565\n",
       "min          9.000\n",
       "25%     216656.500\n",
       "50%     317937.000\n",
       "75%     421659.000\n",
       "max   57762492.000"
      ]
     },
     "execution_count": 9,
     "metadata": {},
     "output_type": "execute_result"
    }
   ],
   "source": [
    "df.describe()"
   ]
  },
  {
   "cell_type": "code",
   "execution_count": 10,
   "metadata": {},
   "outputs": [
    {
     "name": "stdout",
     "output_type": "stream",
     "text": [
      "(array([2443, 2519, 2774, 3555]),)\n"
     ]
    }
   ],
   "source": [
    "z = stats.zscore(df[\"amount\"])\n",
    "print(np.where( z > 3))"
   ]
  },
  {
   "cell_type": "code",
   "execution_count": 11,
   "metadata": {},
   "outputs": [
    {
     "name": "stdout",
     "output_type": "stream",
     "text": [
      "38.40051034673434 7.209318674283304 37.9288482263481 45.14620432901849\n"
     ]
    }
   ],
   "source": [
    "print(z[2443], z[2519], z[2774], z[3555])"
   ]
  },
  {
   "cell_type": "code",
   "execution_count": 12,
   "metadata": {},
   "outputs": [
    {
     "name": "stdout",
     "output_type": "stream",
     "text": [
      "382389.44273770176 1270983.982154629\n"
     ]
    }
   ],
   "source": [
    "std = np.std(df[\"amount\"])\n",
    "mean = np.mean(df[\"amount\"])\n",
    "print(mean, std)"
   ]
  },
  {
   "cell_type": "code",
   "execution_count": 13,
   "metadata": {},
   "outputs": [],
   "source": [
    "amount_1std = df[df[\"amount\"] > (mean + std)]"
   ]
  },
  {
   "cell_type": "code",
   "execution_count": 14,
   "metadata": {},
   "outputs": [
    {
     "data": {
      "text/plain": [
       "12"
      ]
     },
     "execution_count": 14,
     "metadata": {},
     "output_type": "execute_result"
    }
   ],
   "source": [
    "len(amount_1std)"
   ]
  },
  {
   "cell_type": "code",
   "execution_count": 15,
   "metadata": {},
   "outputs": [
    {
     "data": {
      "text/html": [
       "<div>\n",
       "<style scoped>\n",
       "    .dataframe tbody tr th:only-of-type {\n",
       "        vertical-align: middle;\n",
       "    }\n",
       "\n",
       "    .dataframe tbody tr th {\n",
       "        vertical-align: top;\n",
       "    }\n",
       "\n",
       "    .dataframe thead th {\n",
       "        text-align: right;\n",
       "    }\n",
       "</style>\n",
       "<table border=\"1\" class=\"dataframe\">\n",
       "  <thead>\n",
       "    <tr style=\"text-align: right;\">\n",
       "      <th></th>\n",
       "      <th>amount</th>\n",
       "      <th>address</th>\n",
       "      <th>created</th>\n",
       "      <th>funded</th>\n",
       "    </tr>\n",
       "  </thead>\n",
       "  <tbody>\n",
       "    <tr>\n",
       "      <th>680</th>\n",
       "      <td>1801514.000</td>\n",
       "      <td>254-266 The Embarcadero, SF CA 94105</td>\n",
       "      <td>2017-02-27</td>\n",
       "      <td>NaT</td>\n",
       "    </tr>\n",
       "    <tr>\n",
       "      <th>1653</th>\n",
       "      <td>2750000.000</td>\n",
       "      <td>6403 S Uvalda St, Centennial CO 80111</td>\n",
       "      <td>2017-08-17</td>\n",
       "      <td>NaT</td>\n",
       "    </tr>\n",
       "    <tr>\n",
       "      <th>1845</th>\n",
       "      <td>1977055.000</td>\n",
       "      <td>1160 Lammy Pl, Los Altos CA 94024</td>\n",
       "      <td>2016-12-31</td>\n",
       "      <td>NaT</td>\n",
       "    </tr>\n",
       "    <tr>\n",
       "      <th>2147</th>\n",
       "      <td>1762186.000</td>\n",
       "      <td>38 Miltiades Ave, Greenwich CT 06878</td>\n",
       "      <td>2017-10-09</td>\n",
       "      <td>NaT</td>\n",
       "    </tr>\n",
       "    <tr>\n",
       "      <th>2399</th>\n",
       "      <td>2150000.000</td>\n",
       "      <td>1332 Davies Dr, Beverly Hills CA 90210</td>\n",
       "      <td>2016-12-15</td>\n",
       "      <td>NaT</td>\n",
       "    </tr>\n",
       "    <tr>\n",
       "      <th>2443</th>\n",
       "      <td>49188823.000</td>\n",
       "      <td>1 Ave at Port Imperial, West New York NJ 07093</td>\n",
       "      <td>2016-12-31</td>\n",
       "      <td>NaT</td>\n",
       "    </tr>\n",
       "    <tr>\n",
       "      <th>2519</th>\n",
       "      <td>9545318.000</td>\n",
       "      <td>4426 Triggs St, Los Angeles CA 90040</td>\n",
       "      <td>2017-10-06</td>\n",
       "      <td>NaT</td>\n",
       "    </tr>\n",
       "    <tr>\n",
       "      <th>2673</th>\n",
       "      <td>2000000.000</td>\n",
       "      <td>1375-1385 S Los Robles Ave, Pasadena CA 91106</td>\n",
       "      <td>2017-01-16</td>\n",
       "      <td>NaT</td>\n",
       "    </tr>\n",
       "    <tr>\n",
       "      <th>2774</th>\n",
       "      <td>48589348.000</td>\n",
       "      <td>7411 Goen Pl, San Diego CA 92120</td>\n",
       "      <td>2017-01-20</td>\n",
       "      <td>NaT</td>\n",
       "    </tr>\n",
       "    <tr>\n",
       "      <th>2839</th>\n",
       "      <td>2405731.000</td>\n",
       "      <td>1736-1750 8th St, Manhattan Beach CA 90266</td>\n",
       "      <td>2017-01-06</td>\n",
       "      <td>NaT</td>\n",
       "    </tr>\n",
       "    <tr>\n",
       "      <th>3555</th>\n",
       "      <td>57762492.000</td>\n",
       "      <td>2300-2398 Castlegate Ln, Vista CA 92084</td>\n",
       "      <td>2016-12-31</td>\n",
       "      <td>NaT</td>\n",
       "    </tr>\n",
       "    <tr>\n",
       "      <th>3584</th>\n",
       "      <td>1973553.000</td>\n",
       "      <td>65 Rheem Blvd, Orinda CA 94563</td>\n",
       "      <td>2017-01-16</td>\n",
       "      <td>NaT</td>\n",
       "    </tr>\n",
       "  </tbody>\n",
       "</table>\n",
       "</div>"
      ],
      "text/plain": [
       "           amount                                         address    created  \\\n",
       "680   1801514.000            254-266 The Embarcadero, SF CA 94105 2017-02-27   \n",
       "1653  2750000.000           6403 S Uvalda St, Centennial CO 80111 2017-08-17   \n",
       "1845  1977055.000               1160 Lammy Pl, Los Altos CA 94024 2016-12-31   \n",
       "2147  1762186.000            38 Miltiades Ave, Greenwich CT 06878 2017-10-09   \n",
       "2399  2150000.000          1332 Davies Dr, Beverly Hills CA 90210 2016-12-15   \n",
       "2443 49188823.000  1 Ave at Port Imperial, West New York NJ 07093 2016-12-31   \n",
       "2519  9545318.000            4426 Triggs St, Los Angeles CA 90040 2017-10-06   \n",
       "2673  2000000.000   1375-1385 S Los Robles Ave, Pasadena CA 91106 2017-01-16   \n",
       "2774 48589348.000                7411 Goen Pl, San Diego CA 92120 2017-01-20   \n",
       "2839  2405731.000      1736-1750 8th St, Manhattan Beach CA 90266 2017-01-06   \n",
       "3555 57762492.000         2300-2398 Castlegate Ln, Vista CA 92084 2016-12-31   \n",
       "3584  1973553.000                  65 Rheem Blvd, Orinda CA 94563 2017-01-16   \n",
       "\n",
       "     funded  \n",
       "680     NaT  \n",
       "1653    NaT  \n",
       "1845    NaT  \n",
       "2147    NaT  \n",
       "2399    NaT  \n",
       "2443    NaT  \n",
       "2519    NaT  \n",
       "2673    NaT  \n",
       "2774    NaT  \n",
       "2839    NaT  \n",
       "3555    NaT  \n",
       "3584    NaT  "
      ]
     },
     "execution_count": 15,
     "metadata": {},
     "output_type": "execute_result"
    }
   ],
   "source": [
    "amount_1std"
   ]
  },
  {
   "cell_type": "code",
   "execution_count": 16,
   "metadata": {},
   "outputs": [],
   "source": [
    "df = df[df[\"amount\"] <= (mean + std)]"
   ]
  },
  {
   "cell_type": "code",
   "execution_count": 17,
   "metadata": {},
   "outputs": [
    {
     "data": {
      "text/html": [
       "<div>\n",
       "<style scoped>\n",
       "    .dataframe tbody tr th:only-of-type {\n",
       "        vertical-align: middle;\n",
       "    }\n",
       "\n",
       "    .dataframe tbody tr th {\n",
       "        vertical-align: top;\n",
       "    }\n",
       "\n",
       "    .dataframe thead th {\n",
       "        text-align: right;\n",
       "    }\n",
       "</style>\n",
       "<table border=\"1\" class=\"dataframe\">\n",
       "  <thead>\n",
       "    <tr style=\"text-align: right;\">\n",
       "      <th></th>\n",
       "      <th>amount</th>\n",
       "    </tr>\n",
       "  </thead>\n",
       "  <tbody>\n",
       "    <tr>\n",
       "      <th>count</th>\n",
       "      <td>5131.000</td>\n",
       "    </tr>\n",
       "    <tr>\n",
       "      <th>mean</th>\n",
       "      <td>347831.394</td>\n",
       "    </tr>\n",
       "    <tr>\n",
       "      <th>std</th>\n",
       "      <td>194980.161</td>\n",
       "    </tr>\n",
       "    <tr>\n",
       "      <th>min</th>\n",
       "      <td>9.000</td>\n",
       "    </tr>\n",
       "    <tr>\n",
       "      <th>25%</th>\n",
       "      <td>216522.000</td>\n",
       "    </tr>\n",
       "    <tr>\n",
       "      <th>50%</th>\n",
       "      <td>317373.000</td>\n",
       "    </tr>\n",
       "    <tr>\n",
       "      <th>75%</th>\n",
       "      <td>420837.000</td>\n",
       "    </tr>\n",
       "    <tr>\n",
       "      <th>max</th>\n",
       "      <td>1650000.000</td>\n",
       "    </tr>\n",
       "  </tbody>\n",
       "</table>\n",
       "</div>"
      ],
      "text/plain": [
       "           amount\n",
       "count    5131.000\n",
       "mean   347831.394\n",
       "std    194980.161\n",
       "min         9.000\n",
       "25%    216522.000\n",
       "50%    317373.000\n",
       "75%    420837.000\n",
       "max   1650000.000"
      ]
     },
     "execution_count": 17,
     "metadata": {},
     "output_type": "execute_result"
    }
   ],
   "source": [
    "df.describe()"
   ]
  },
  {
   "cell_type": "code",
   "execution_count": 18,
   "metadata": {},
   "outputs": [
    {
     "data": {
      "image/png": "[encoded data removed]",
      "text/plain": [
       "<Figure size 432x288 with 1 Axes>"
      ]
     },
     "metadata": {
      "needs_background": "light"
     },
     "output_type": "display_data"
    }
   ],
   "source": [
    "df[\"amount\"].plot.hist(alpha=0.3, stacked=True, bins=10);"
   ]
  },
  {
   "cell_type": "code",
   "execution_count": 19,
   "metadata": {},
   "outputs": [
    {
     "name": "stdout",
     "output_type": "stream",
     "text": [
      "amount   204315.000\n",
      "dtype: float64\n"
     ]
    }
   ],
   "source": [
    "Q1 = df.quantile(0.25)\n",
    "Q3 = df.quantile(0.75)\n",
    "IQR = Q3 - Q1\n",
    "print(IQR)"
   ]
  },
  {
   "cell_type": "code",
   "execution_count": 20,
   "metadata": {},
   "outputs": [
    {
     "data": {
      "text/plain": [
       "amount   727309.500\n",
       "dtype: float64"
      ]
     },
     "execution_count": 20,
     "metadata": {},
     "output_type": "execute_result"
    }
   ],
   "source": [
    "Q3 + 1.5 * IQR"
   ]
  },
  {
   "cell_type": "code",
   "execution_count": 21,
   "metadata": {},
   "outputs": [],
   "source": [
    "df = df[df[\"amount\"] < (Q3[0] + 1.5 * IQR[0])]"
   ]
  },
  {
   "cell_type": "code",
   "execution_count": 22,
   "metadata": {},
   "outputs": [
    {
     "data": {
      "image/png": "[encoded data removed]",
      "text/plain": [
       "<Figure size 432x288 with 1 Axes>"
      ]
     },
     "metadata": {
      "needs_background": "light"
     },
     "output_type": "display_data"
    }
   ],
   "source": [
    "df[\"amount\"].plot.hist(alpha=0.3, stacked=True, bins=10);"
   ]
  },
  {
   "cell_type": "code",
   "execution_count": 23,
   "metadata": {},
   "outputs": [
    {
     "data": {
      "text/plain": [
       "amount            float64\n",
       "address            object\n",
       "created    datetime64[ns]\n",
       "funded     datetime64[ns]\n",
       "dtype: object"
      ]
     },
     "execution_count": 23,
     "metadata": {},
     "output_type": "execute_result"
    }
   ],
   "source": [
    "df.dtypes"
   ]
  },
  {
   "cell_type": "code",
   "execution_count": 24,
   "metadata": {},
   "outputs": [],
   "source": [
    "df = df[ df[\"funded\"] > df[\"created\"]]"
   ]
  },
  {
   "cell_type": "code",
   "execution_count": 25,
   "metadata": {},
   "outputs": [
    {
     "data": {
      "text/plain": [
       "count   1046.000\n",
       "mean       1.625\n",
       "std        0.755\n",
       "min        0.526\n",
       "25%        1.183\n",
       "50%        1.478\n",
       "75%        1.906\n",
       "max       14.128\n",
       "Name: conversion_length_m, dtype: float64"
      ]
     },
     "execution_count": 25,
     "metadata": {},
     "output_type": "execute_result"
    }
   ],
   "source": [
    "df[\"conversion_length_m\"] = (df[\"funded\"]-df[\"created\"])/np.timedelta64(1, \"M\")\n",
    "df[\"conversion_length_m\"].describe()"
   ]
  },
  {
   "cell_type": "code",
   "execution_count": 26,
   "metadata": {},
   "outputs": [
    {
     "data": {
      "text/plain": [
       "count   1046.000\n",
       "mean      49.467\n",
       "std       22.970\n",
       "min       16.000\n",
       "25%       36.000\n",
       "50%       45.000\n",
       "75%       58.000\n",
       "max      430.000\n",
       "Name: conversion_length_d, dtype: float64"
      ]
     },
     "execution_count": 26,
     "metadata": {},
     "output_type": "execute_result"
    }
   ],
   "source": [
    "df[\"conversion_length_d\"] = (df[\"funded\"]-df[\"created\"])/np.timedelta64(1, \"D\")\n",
    "df[\"conversion_length_d\"].describe()"
   ]
  },
  {
   "cell_type": "code",
   "execution_count": 27,
   "metadata": {},
   "outputs": [
    {
     "name": "stdout",
     "output_type": "stream",
     "text": [
      "min_created_date: 2016-06-22 00:00:00\n",
      "max_created_date: 2017-11-06 00:00:00\n",
      "min_funded_date: 2016-10-26 00:00:00\n",
      "max_funded_date: 2017-12-23 00:00:00\n",
      "min_conversion_length(in days): 16.0\n",
      "max_conversion_length(in days: 430.0\n"
     ]
    }
   ],
   "source": [
    "print(\"min_created_date:\",min(df[\"created\"]))\n",
    "print(\"max_created_date:\",max(df[\"created\"]))\n",
    "print(\"min_funded_date:\",min(df[\"funded\"]))\n",
    "print(\"max_funded_date:\",max(df[\"funded\"]))\n",
    "print(\"min_conversion_length(in days):\",min(df[\"conversion_length_d\"]))\n",
    "print(\"max_conversion_length(in days:\",max(df[\"conversion_length_d\"]))"
   ]
  },
  {
   "cell_type": "code",
   "execution_count": 28,
   "metadata": {},
   "outputs": [],
   "source": [
    "df[\"converted\"] = df[\"funded\"].notnull()"
   ]
  },
  {
   "cell_type": "code",
   "execution_count": 29,
   "metadata": {},
   "outputs": [
    {
     "data": {
      "text/html": [
       "<div>\n",
       "<style scoped>\n",
       "    .dataframe tbody tr th:only-of-type {\n",
       "        vertical-align: middle;\n",
       "    }\n",
       "\n",
       "    .dataframe tbody tr th {\n",
       "        vertical-align: top;\n",
       "    }\n",
       "\n",
       "    .dataframe thead th {\n",
       "        text-align: right;\n",
       "    }\n",
       "</style>\n",
       "<table border=\"1\" class=\"dataframe\">\n",
       "  <thead>\n",
       "    <tr style=\"text-align: right;\">\n",
       "      <th></th>\n",
       "      <th>amount</th>\n",
       "      <th>address</th>\n",
       "      <th>created</th>\n",
       "      <th>funded</th>\n",
       "      <th>conversion_length_m</th>\n",
       "      <th>conversion_length_d</th>\n",
       "      <th>converted</th>\n",
       "    </tr>\n",
       "  </thead>\n",
       "  <tbody>\n",
       "    <tr>\n",
       "      <th>1</th>\n",
       "      <td>413165.000</td>\n",
       "      <td>124 Vignolia Court, Roseville CA 95747</td>\n",
       "      <td>2016-10-11</td>\n",
       "      <td>2016-11-07</td>\n",
       "      <td>0.887</td>\n",
       "      <td>27.000</td>\n",
       "      <td>True</td>\n",
       "    </tr>\n",
       "    <tr>\n",
       "      <th>6</th>\n",
       "      <td>504193.000</td>\n",
       "      <td>10190 Brixton Pl, Suwanee GA 30024</td>\n",
       "      <td>2017-08-18</td>\n",
       "      <td>2017-09-18</td>\n",
       "      <td>1.019</td>\n",
       "      <td>31.000</td>\n",
       "      <td>True</td>\n",
       "    </tr>\n",
       "    <tr>\n",
       "      <th>8</th>\n",
       "      <td>275236.000</td>\n",
       "      <td>1952 S St SE, Washington DC 20020</td>\n",
       "      <td>2017-09-23</td>\n",
       "      <td>2017-11-15</td>\n",
       "      <td>1.741</td>\n",
       "      <td>53.000</td>\n",
       "      <td>True</td>\n",
       "    </tr>\n",
       "    <tr>\n",
       "      <th>37</th>\n",
       "      <td>287472.000</td>\n",
       "      <td>7498 NE 156th St, Kenmore WA 98028</td>\n",
       "      <td>2016-11-21</td>\n",
       "      <td>2016-12-30</td>\n",
       "      <td>1.281</td>\n",
       "      <td>39.000</td>\n",
       "      <td>True</td>\n",
       "    </tr>\n",
       "    <tr>\n",
       "      <th>40</th>\n",
       "      <td>254942.000</td>\n",
       "      <td>3212-3214 W 157th St, Gardena CA 90249</td>\n",
       "      <td>2016-10-01</td>\n",
       "      <td>2016-11-18</td>\n",
       "      <td>1.577</td>\n",
       "      <td>48.000</td>\n",
       "      <td>True</td>\n",
       "    </tr>\n",
       "  </tbody>\n",
       "</table>\n",
       "</div>"
      ],
      "text/plain": [
       "       amount                                 address    created     funded  \\\n",
       "1  413165.000  124 Vignolia Court, Roseville CA 95747 2016-10-11 2016-11-07   \n",
       "6  504193.000      10190 Brixton Pl, Suwanee GA 30024 2017-08-18 2017-09-18   \n",
       "8  275236.000       1952 S St SE, Washington DC 20020 2017-09-23 2017-11-15   \n",
       "37 287472.000      7498 NE 156th St, Kenmore WA 98028 2016-11-21 2016-12-30   \n",
       "40 254942.000  3212-3214 W 157th St, Gardena CA 90249 2016-10-01 2016-11-18   \n",
       "\n",
       "    conversion_length_m  conversion_length_d  converted  \n",
       "1                 0.887               27.000       True  \n",
       "6                 1.019               31.000       True  \n",
       "8                 1.741               53.000       True  \n",
       "37                1.281               39.000       True  \n",
       "40                1.577               48.000       True  "
      ]
     },
     "execution_count": 29,
     "metadata": {},
     "output_type": "execute_result"
    }
   ],
   "source": [
    "df.head()"
   ]
  },
  {
   "cell_type": "code",
   "execution_count": 30,
   "metadata": {},
   "outputs": [],
   "source": [
    "df_no_nan = df.dropna()"
   ]
  },
  {
   "cell_type": "code",
   "execution_count": 31,
   "metadata": {},
   "outputs": [
    {
     "data": {
      "text/html": [
       "<div>\n",
       "<style scoped>\n",
       "    .dataframe tbody tr th:only-of-type {\n",
       "        vertical-align: middle;\n",
       "    }\n",
       "\n",
       "    .dataframe tbody tr th {\n",
       "        vertical-align: top;\n",
       "    }\n",
       "\n",
       "    .dataframe thead th {\n",
       "        text-align: right;\n",
       "    }\n",
       "</style>\n",
       "<table border=\"1\" class=\"dataframe\">\n",
       "  <thead>\n",
       "    <tr style=\"text-align: right;\">\n",
       "      <th></th>\n",
       "      <th>amount</th>\n",
       "      <th>conversion_length_m</th>\n",
       "      <th>conversion_length_d</th>\n",
       "    </tr>\n",
       "  </thead>\n",
       "  <tbody>\n",
       "    <tr>\n",
       "      <th>count</th>\n",
       "      <td>1046.000</td>\n",
       "      <td>1046.000</td>\n",
       "      <td>1046.000</td>\n",
       "    </tr>\n",
       "    <tr>\n",
       "      <th>mean</th>\n",
       "      <td>340312.466</td>\n",
       "      <td>1.625</td>\n",
       "      <td>49.467</td>\n",
       "    </tr>\n",
       "    <tr>\n",
       "      <th>std</th>\n",
       "      <td>117766.746</td>\n",
       "      <td>0.755</td>\n",
       "      <td>22.970</td>\n",
       "    </tr>\n",
       "    <tr>\n",
       "      <th>min</th>\n",
       "      <td>75000.000</td>\n",
       "      <td>0.526</td>\n",
       "      <td>16.000</td>\n",
       "    </tr>\n",
       "    <tr>\n",
       "      <th>25%</th>\n",
       "      <td>261406.250</td>\n",
       "      <td>1.183</td>\n",
       "      <td>36.000</td>\n",
       "    </tr>\n",
       "    <tr>\n",
       "      <th>50%</th>\n",
       "      <td>334104.500</td>\n",
       "      <td>1.478</td>\n",
       "      <td>45.000</td>\n",
       "    </tr>\n",
       "    <tr>\n",
       "      <th>75%</th>\n",
       "      <td>405000.000</td>\n",
       "      <td>1.906</td>\n",
       "      <td>58.000</td>\n",
       "    </tr>\n",
       "    <tr>\n",
       "      <th>max</th>\n",
       "      <td>699783.000</td>\n",
       "      <td>14.128</td>\n",
       "      <td>430.000</td>\n",
       "    </tr>\n",
       "  </tbody>\n",
       "</table>\n",
       "</div>"
      ],
      "text/plain": [
       "          amount  conversion_length_m  conversion_length_d\n",
       "count   1046.000             1046.000             1046.000\n",
       "mean  340312.466                1.625               49.467\n",
       "std   117766.746                0.755               22.970\n",
       "min    75000.000                0.526               16.000\n",
       "25%   261406.250                1.183               36.000\n",
       "50%   334104.500                1.478               45.000\n",
       "75%   405000.000                1.906               58.000\n",
       "max   699783.000               14.128              430.000"
      ]
     },
     "execution_count": 31,
     "metadata": {},
     "output_type": "execute_result"
    }
   ],
   "source": [
    "df_no_nan.describe()"
   ]
  },
  {
   "cell_type": "code",
   "execution_count": 32,
   "metadata": {},
   "outputs": [
    {
     "data": {
      "text/plain": [
       "1046"
      ]
     },
     "execution_count": 32,
     "metadata": {},
     "output_type": "execute_result"
    }
   ],
   "source": [
    "len(df_no_nan)"
   ]
  },
  {
   "cell_type": "markdown",
   "metadata": {},
   "source": [
    "# Overall even number of people who converted within 50 days or in more that 50 days.\n",
    "# Among the latter, about 5% have a conversion length greater than 100 days."
   ]
  },
  {
   "cell_type": "code",
   "execution_count": 33,
   "metadata": {},
   "outputs": [
    {
     "name": "stdout",
     "output_type": "stream",
     "text": [
      "619\n",
      "412\n",
      "22\n"
     ]
    }
   ],
   "source": [
    "print(len(df_no_nan[df_no_nan[\"conversion_length_d\"] < 50]))\n",
    "print(len(df_no_nan[df_no_nan[\"conversion_length_d\"] > 50]))\n",
    "print(len(df_no_nan[df_no_nan[\"conversion_length_d\"] > 100]))"
   ]
  },
  {
   "cell_type": "code",
   "execution_count": 34,
   "metadata": {},
   "outputs": [
    {
     "data": {
      "text/plain": [
       "0.05339805825242718"
      ]
     },
     "execution_count": 34,
     "metadata": {},
     "output_type": "execute_result"
    }
   ],
   "source": [
    "22/412"
   ]
  },
  {
   "cell_type": "code",
   "execution_count": 35,
   "metadata": {},
   "outputs": [
    {
     "data": {
      "image/png": "[encoded data removed]",
      "text/plain": [
       "<Figure size 432x288 with 1 Axes>"
      ]
     },
     "metadata": {
      "needs_background": "light"
     },
     "output_type": "display_data"
    }
   ],
   "source": [
    "fig, ax = plt.subplots()\n",
    "df[\"conversion_length_d\"].hist(bins=50)\n",
    "plt.xlabel(\"Days\")\n",
    "plt.ylabel(\"Count\")\n",
    "ax.set_title(\"Distribution of Conversion Length in Days\");"
   ]
  },
  {
   "cell_type": "code",
   "execution_count": 36,
   "metadata": {},
   "outputs": [
    {
     "data": {
      "text/html": [
       "<div>\n",
       "<style scoped>\n",
       "    .dataframe tbody tr th:only-of-type {\n",
       "        vertical-align: middle;\n",
       "    }\n",
       "\n",
       "    .dataframe tbody tr th {\n",
       "        vertical-align: top;\n",
       "    }\n",
       "\n",
       "    .dataframe thead th {\n",
       "        text-align: right;\n",
       "    }\n",
       "</style>\n",
       "<table border=\"1\" class=\"dataframe\">\n",
       "  <thead>\n",
       "    <tr style=\"text-align: right;\">\n",
       "      <th></th>\n",
       "      <th>conversion_length_d</th>\n",
       "    </tr>\n",
       "    <tr>\n",
       "      <th>funded</th>\n",
       "      <th></th>\n",
       "    </tr>\n",
       "  </thead>\n",
       "  <tbody>\n",
       "    <tr>\n",
       "      <th>2016-10-26</th>\n",
       "      <td>54.000</td>\n",
       "    </tr>\n",
       "    <tr>\n",
       "      <th>2016-10-26</th>\n",
       "      <td>44.000</td>\n",
       "    </tr>\n",
       "    <tr>\n",
       "      <th>2016-10-26</th>\n",
       "      <td>62.000</td>\n",
       "    </tr>\n",
       "    <tr>\n",
       "      <th>2016-10-26</th>\n",
       "      <td>63.000</td>\n",
       "    </tr>\n",
       "    <tr>\n",
       "      <th>2016-10-26</th>\n",
       "      <td>30.000</td>\n",
       "    </tr>\n",
       "  </tbody>\n",
       "</table>\n",
       "</div>"
      ],
      "text/plain": [
       "            conversion_length_d\n",
       "funded                         \n",
       "2016-10-26               54.000\n",
       "2016-10-26               44.000\n",
       "2016-10-26               62.000\n",
       "2016-10-26               63.000\n",
       "2016-10-26               30.000"
      ]
     },
     "execution_count": 36,
     "metadata": {},
     "output_type": "execute_result"
    }
   ],
   "source": [
    "trend_ts_df = df[[\"funded\",\"conversion_length_d\"]]\n",
    "trend_ts_df = trend_ts_df.sort_values(\"funded\",ascending=True)\n",
    "trend_ts_df.set_index(\"funded\", inplace=True)\n",
    "trend_ts_df.head()"
   ]
  },
  {
   "cell_type": "code",
   "execution_count": 37,
   "metadata": {},
   "outputs": [
    {
     "data": {
      "text/html": [
       "<div>\n",
       "<style scoped>\n",
       "    .dataframe tbody tr th:only-of-type {\n",
       "        vertical-align: middle;\n",
       "    }\n",
       "\n",
       "    .dataframe tbody tr th {\n",
       "        vertical-align: top;\n",
       "    }\n",
       "\n",
       "    .dataframe thead th {\n",
       "        text-align: right;\n",
       "    }\n",
       "</style>\n",
       "<table border=\"1\" class=\"dataframe\">\n",
       "  <thead>\n",
       "    <tr style=\"text-align: right;\">\n",
       "      <th></th>\n",
       "      <th>conversion_length_d</th>\n",
       "    </tr>\n",
       "    <tr>\n",
       "      <th>funded</th>\n",
       "      <th></th>\n",
       "    </tr>\n",
       "  </thead>\n",
       "  <tbody>\n",
       "    <tr>\n",
       "      <th>2016-10-26</th>\n",
       "      <td>49.750</td>\n",
       "    </tr>\n",
       "    <tr>\n",
       "      <th>2016-10-27</th>\n",
       "      <td>41.250</td>\n",
       "    </tr>\n",
       "    <tr>\n",
       "      <th>2016-10-28</th>\n",
       "      <td>45.333</td>\n",
       "    </tr>\n",
       "    <tr>\n",
       "      <th>2016-10-31</th>\n",
       "      <td>42.588</td>\n",
       "    </tr>\n",
       "    <tr>\n",
       "      <th>2016-11-01</th>\n",
       "      <td>59.000</td>\n",
       "    </tr>\n",
       "  </tbody>\n",
       "</table>\n",
       "</div>"
      ],
      "text/plain": [
       "            conversion_length_d\n",
       "funded                         \n",
       "2016-10-26               49.750\n",
       "2016-10-27               41.250\n",
       "2016-10-28               45.333\n",
       "2016-10-31               42.588\n",
       "2016-11-01               59.000"
      ]
     },
     "execution_count": 37,
     "metadata": {},
     "output_type": "execute_result"
    }
   ],
   "source": [
    "trend_ts_df_mean = trend_ts_df.groupby(\"funded\").mean()\n",
    "trend_ts_df_mean.head()"
   ]
  },
  {
   "cell_type": "markdown",
   "metadata": {},
   "source": [
    "# Conversion was more or les monotonic, with an average aorund 50 days of conversion lenght and some peaks at 100 days of conversion."
   ]
  },
  {
   "cell_type": "code",
   "execution_count": 38,
   "metadata": {},
   "outputs": [
    {
     "data": {
      "image/png": "[encoded data removed]",
      "text/plain": [
       "<Figure size 576x360 with 1 Axes>"
      ]
     },
     "metadata": {},
     "output_type": "display_data"
    }
   ],
   "source": [
    "sns.set_style('ticks')\n",
    "red=\"#D62728\"\n",
    "fig, ax = plt.subplots(figsize=(8,5))\n",
    "trend_ts_df_mean[\"conversion_length_d\"].plot(color=red)\n",
    "ax.set_xlabel(\"\")\n",
    "ax.set_ylabel(\"Length\")\n",
    "ax.legend([\"conversion_length_d\"])\n",
    "ax.set_title(\"Conversion Length over time\")\n",
    "ax.set_xticks([], minor=True) \n",
    "ax.set_xlim([trend_ts_df_mean.index[0], trend_ts_df_mean.index[-1]])\n",
    "sns.despine()\n",
    "plt.show()"
   ]
  },
  {
   "cell_type": "markdown",
   "metadata": {},
   "source": [
    "# More recently a big surge happened on 2017-12-23 which is driven by a unique customer."
   ]
  },
  {
   "cell_type": "code",
   "execution_count": 39,
   "metadata": {},
   "outputs": [
    {
     "data": {
      "text/html": [
       "<div>\n",
       "<style scoped>\n",
       "    .dataframe tbody tr th:only-of-type {\n",
       "        vertical-align: middle;\n",
       "    }\n",
       "\n",
       "    .dataframe tbody tr th {\n",
       "        vertical-align: top;\n",
       "    }\n",
       "\n",
       "    .dataframe thead th {\n",
       "        text-align: right;\n",
       "    }\n",
       "</style>\n",
       "<table border=\"1\" class=\"dataframe\">\n",
       "  <thead>\n",
       "    <tr style=\"text-align: right;\">\n",
       "      <th></th>\n",
       "      <th>amount</th>\n",
       "      <th>address</th>\n",
       "      <th>created</th>\n",
       "      <th>funded</th>\n",
       "      <th>conversion_length_m</th>\n",
       "      <th>conversion_length_d</th>\n",
       "      <th>converted</th>\n",
       "    </tr>\n",
       "  </thead>\n",
       "  <tbody>\n",
       "    <tr>\n",
       "      <th>2486</th>\n",
       "      <td>403000.000</td>\n",
       "      <td>3465 Trailblazer Way, Carlsbad CA 92010</td>\n",
       "      <td>2016-10-19</td>\n",
       "      <td>2017-12-23</td>\n",
       "      <td>14.128</td>\n",
       "      <td>430.000</td>\n",
       "      <td>True</td>\n",
       "    </tr>\n",
       "  </tbody>\n",
       "</table>\n",
       "</div>"
      ],
      "text/plain": [
       "         amount                                  address    created  \\\n",
       "2486 403000.000  3465 Trailblazer Way, Carlsbad CA 92010 2016-10-19   \n",
       "\n",
       "         funded  conversion_length_m  conversion_length_d  converted  \n",
       "2486 2017-12-23               14.128              430.000       True  "
      ]
     },
     "execution_count": 39,
     "metadata": {},
     "output_type": "execute_result"
    }
   ],
   "source": [
    "df_no_nan[df_no_nan[\"conversion_length_d\"] == 430]"
   ]
  },
  {
   "cell_type": "code",
   "execution_count": 40,
   "metadata": {},
   "outputs": [
    {
     "data": {
      "text/html": [
       "<div>\n",
       "<style scoped>\n",
       "    .dataframe tbody tr th:only-of-type {\n",
       "        vertical-align: middle;\n",
       "    }\n",
       "\n",
       "    .dataframe tbody tr th {\n",
       "        vertical-align: top;\n",
       "    }\n",
       "\n",
       "    .dataframe thead th {\n",
       "        text-align: right;\n",
       "    }\n",
       "</style>\n",
       "<table border=\"1\" class=\"dataframe\">\n",
       "  <thead>\n",
       "    <tr style=\"text-align: right;\">\n",
       "      <th></th>\n",
       "      <th>conversion_length_d</th>\n",
       "    </tr>\n",
       "    <tr>\n",
       "      <th>funded</th>\n",
       "      <th></th>\n",
       "    </tr>\n",
       "  </thead>\n",
       "  <tbody>\n",
       "    <tr>\n",
       "      <th>2017-12-13</th>\n",
       "      <td>44.000</td>\n",
       "    </tr>\n",
       "    <tr>\n",
       "      <th>2017-12-13</th>\n",
       "      <td>69.000</td>\n",
       "    </tr>\n",
       "    <tr>\n",
       "      <th>2017-12-13</th>\n",
       "      <td>42.000</td>\n",
       "    </tr>\n",
       "    <tr>\n",
       "      <th>2017-12-13</th>\n",
       "      <td>40.000</td>\n",
       "    </tr>\n",
       "    <tr>\n",
       "      <th>2017-12-23</th>\n",
       "      <td>430.000</td>\n",
       "    </tr>\n",
       "  </tbody>\n",
       "</table>\n",
       "</div>"
      ],
      "text/plain": [
       "            conversion_length_d\n",
       "funded                         \n",
       "2017-12-13               44.000\n",
       "2017-12-13               69.000\n",
       "2017-12-13               42.000\n",
       "2017-12-13               40.000\n",
       "2017-12-23              430.000"
      ]
     },
     "execution_count": 40,
     "metadata": {},
     "output_type": "execute_result"
    }
   ],
   "source": [
    "trend_ts_df.tail()"
   ]
  },
  {
   "cell_type": "code",
   "execution_count": 41,
   "metadata": {},
   "outputs": [],
   "source": [
    "trend_amount_df = df[[\"amount\",\"conversion_length_d\"]]\n",
    "trend_amount_df = trend_amount_df.sort_values(\"amount\",ascending=True)\n",
    "trend_amount_df.set_index(\"amount\", inplace=True)\n",
    "trend_amount_df_mean = trend_amount_df.groupby(\"amount\").mean()"
   ]
  },
  {
   "cell_type": "code",
   "execution_count": 42,
   "metadata": {},
   "outputs": [
    {
     "data": {
      "image/png": "[encoded data removed]",
      "text/plain": [
       "<Figure size 576x360 with 1 Axes>"
      ]
     },
     "metadata": {},
     "output_type": "display_data"
    }
   ],
   "source": [
    "sns.set_style('ticks')\n",
    "blue='#1F77B4'\n",
    "fig, ax = plt.subplots(figsize=(8,5))\n",
    "trend_amount_df_mean[\"conversion_length_d\"].plot(color=blue)\n",
    "ax.set_xlabel(\"Amount\")\n",
    "ax.set_ylabel(\"Length\")\n",
    "ax.legend([\"conversion_length_d\"])\n",
    "ax.set_title(\"Conversion Length over time\")\n",
    "ax.set_xticks([], minor=True) \n",
    "ax.set_xlim([trend_amount_df_mean.index[0], trend_amount_df_mean.index[-1]])\n",
    "sns.despine()\n",
    "plt.show()"
   ]
  },
  {
   "cell_type": "markdown",
   "metadata": {},
   "source": [
    "# It does not look like the lenght of conversion is related to the amount of the loan.\n",
    "# And this customer seems to be unique, wrong entry or not we filter it out."
   ]
  },
  {
   "cell_type": "code",
   "execution_count": 43,
   "metadata": {},
   "outputs": [
    {
     "data": {
      "text/plain": [
       "1045"
      ]
     },
     "execution_count": 43,
     "metadata": {},
     "output_type": "execute_result"
    }
   ],
   "source": [
    "df_no_nan = df_no_nan[df_no_nan[\"conversion_length_d\"] != 430]\n",
    "len(df_no_nan)"
   ]
  },
  {
   "cell_type": "code",
   "execution_count": 44,
   "metadata": {},
   "outputs": [],
   "source": [
    "trend_ts_df = trend_ts_df[trend_ts_df[\"conversion_length_d\"] != 430]"
   ]
  },
  {
   "cell_type": "code",
   "execution_count": 45,
   "metadata": {},
   "outputs": [
    {
     "data": {
      "text/plain": [
       "Timestamp('2017-12-13 00:00:00')"
      ]
     },
     "execution_count": 45,
     "metadata": {},
     "output_type": "execute_result"
    }
   ],
   "source": [
    "trend_ts_df.index[-1]"
   ]
  },
  {
   "cell_type": "code",
   "execution_count": 46,
   "metadata": {},
   "outputs": [],
   "source": [
    "trend_ts_df_last_30_days = trend_ts_df[trend_ts_df.index >= \"2017-11-10\"]"
   ]
  },
  {
   "cell_type": "code",
   "execution_count": 47,
   "metadata": {},
   "outputs": [
    {
     "data": {
      "text/html": [
       "<div>\n",
       "<style scoped>\n",
       "    .dataframe tbody tr th:only-of-type {\n",
       "        vertical-align: middle;\n",
       "    }\n",
       "\n",
       "    .dataframe tbody tr th {\n",
       "        vertical-align: top;\n",
       "    }\n",
       "\n",
       "    .dataframe thead th {\n",
       "        text-align: right;\n",
       "    }\n",
       "</style>\n",
       "<table border=\"1\" class=\"dataframe\">\n",
       "  <thead>\n",
       "    <tr style=\"text-align: right;\">\n",
       "      <th></th>\n",
       "      <th>conversion_length_d</th>\n",
       "    </tr>\n",
       "    <tr>\n",
       "      <th>funded</th>\n",
       "      <th></th>\n",
       "    </tr>\n",
       "  </thead>\n",
       "  <tbody>\n",
       "    <tr>\n",
       "      <th>2017-11-13</th>\n",
       "      <td>54.000</td>\n",
       "    </tr>\n",
       "    <tr>\n",
       "      <th>2017-11-13</th>\n",
       "      <td>28.000</td>\n",
       "    </tr>\n",
       "    <tr>\n",
       "      <th>2017-11-13</th>\n",
       "      <td>67.000</td>\n",
       "    </tr>\n",
       "    <tr>\n",
       "      <th>2017-11-13</th>\n",
       "      <td>55.000</td>\n",
       "    </tr>\n",
       "    <tr>\n",
       "      <th>2017-11-13</th>\n",
       "      <td>52.000</td>\n",
       "    </tr>\n",
       "  </tbody>\n",
       "</table>\n",
       "</div>"
      ],
      "text/plain": [
       "            conversion_length_d\n",
       "funded                         \n",
       "2017-11-13               54.000\n",
       "2017-11-13               28.000\n",
       "2017-11-13               67.000\n",
       "2017-11-13               55.000\n",
       "2017-11-13               52.000"
      ]
     },
     "execution_count": 47,
     "metadata": {},
     "output_type": "execute_result"
    }
   ],
   "source": [
    "trend_ts_df_last_30_days.head()"
   ]
  },
  {
   "cell_type": "code",
   "execution_count": 48,
   "metadata": {},
   "outputs": [
    {
     "data": {
      "text/html": [
       "<div>\n",
       "<style scoped>\n",
       "    .dataframe tbody tr th:only-of-type {\n",
       "        vertical-align: middle;\n",
       "    }\n",
       "\n",
       "    .dataframe tbody tr th {\n",
       "        vertical-align: top;\n",
       "    }\n",
       "\n",
       "    .dataframe thead th {\n",
       "        text-align: right;\n",
       "    }\n",
       "</style>\n",
       "<table border=\"1\" class=\"dataframe\">\n",
       "  <thead>\n",
       "    <tr style=\"text-align: right;\">\n",
       "      <th></th>\n",
       "      <th>conversion_length_d</th>\n",
       "    </tr>\n",
       "    <tr>\n",
       "      <th>funded</th>\n",
       "      <th></th>\n",
       "    </tr>\n",
       "  </thead>\n",
       "  <tbody>\n",
       "    <tr>\n",
       "      <th>2017-11-13</th>\n",
       "      <td>51.200</td>\n",
       "    </tr>\n",
       "    <tr>\n",
       "      <th>2017-11-14</th>\n",
       "      <td>45.000</td>\n",
       "    </tr>\n",
       "    <tr>\n",
       "      <th>2017-11-15</th>\n",
       "      <td>55.333</td>\n",
       "    </tr>\n",
       "    <tr>\n",
       "      <th>2017-11-16</th>\n",
       "      <td>44.000</td>\n",
       "    </tr>\n",
       "    <tr>\n",
       "      <th>2017-11-17</th>\n",
       "      <td>60.667</td>\n",
       "    </tr>\n",
       "  </tbody>\n",
       "</table>\n",
       "</div>"
      ],
      "text/plain": [
       "            conversion_length_d\n",
       "funded                         \n",
       "2017-11-13               51.200\n",
       "2017-11-14               45.000\n",
       "2017-11-15               55.333\n",
       "2017-11-16               44.000\n",
       "2017-11-17               60.667"
      ]
     },
     "execution_count": 48,
     "metadata": {},
     "output_type": "execute_result"
    }
   ],
   "source": [
    "trend_ts_df_last_30_days_mean = trend_ts_df_last_30_days.groupby(\"funded\").mean()\n",
    "trend_ts_df_last_30_days_mean.head()"
   ]
  },
  {
   "cell_type": "code",
   "execution_count": 49,
   "metadata": {},
   "outputs": [
    {
     "data": {
      "image/png": "[encoded data removed]",
      "text/plain": [
       "<Figure size 576x360 with 1 Axes>"
      ]
     },
     "metadata": {},
     "output_type": "display_data"
    }
   ],
   "source": [
    "sns.set_style('ticks')\n",
    "red=\"#D62728\"\n",
    "fig, ax = plt.subplots(figsize=(8,5))\n",
    "trend_ts_df_last_30_days_mean[\"conversion_length_d\"].plot(color=red)\n",
    "ax.set_xlabel(\"\")\n",
    "ax.set_ylabel(\"Length\")\n",
    "ax.legend([\"conversion_length_d\"])\n",
    "ax.set_title(\"Conversion Length over time\")\n",
    "ax.set_xticks([], minor=True) \n",
    "ax.set_xlim([trend_ts_df_last_30_days_mean.index[0], trend_ts_df_last_30_days_mean.index[-1]])\n",
    "sns.despine()\n",
    "plt.show()"
   ]
  },
  {
   "cell_type": "markdown",
   "metadata": {},
   "source": [
    "# Average time of conversion for last 30 days fluctuating about 40  and 60. No clear trends."
   ]
  },
  {
   "cell_type": "code",
   "execution_count": 50,
   "metadata": {},
   "outputs": [
    {
     "data": {
      "text/plain": [
       "DatetimeIndex(['2017-11-13', '2017-11-13', '2017-11-13', '2017-11-13',\n",
       "               '2017-11-13', '2017-11-14', '2017-11-15', '2017-11-15',\n",
       "               '2017-11-15', '2017-11-16',\n",
       "               ...\n",
       "               '2017-12-11', '2017-12-11', '2017-12-11', '2017-12-11',\n",
       "               '2017-12-12', '2017-12-12', '2017-12-13', '2017-12-13',\n",
       "               '2017-12-13', '2017-12-13'],\n",
       "              dtype='datetime64[ns]', name='funded', length=104, freq=None)"
      ]
     },
     "execution_count": 50,
     "metadata": {},
     "output_type": "execute_result"
    }
   ],
   "source": [
    "trend_ts_df_last_30_days.index"
   ]
  },
  {
   "cell_type": "code",
   "execution_count": 51,
   "metadata": {},
   "outputs": [
    {
     "data": {
      "image/png": "[encoded data removed]",
      "text/plain": [
       "<Figure size 576x360 with 1 Axes>"
      ]
     },
     "metadata": {},
     "output_type": "display_data"
    }
   ],
   "source": [
    "fig, ax = plt.subplots(figsize=(8,5))\n",
    "trend_df_conversion_rate_30 = trend_ts_df_last_30_days.groupby(\"funded\")[\"conversion_length_d\"].count().resample('D').mean()\n",
    "trend_df_conversion_rate_30.plot(kind='line',colormap='winter')\n",
    "plt.ylabel('Number conversion')\n",
    "plt.xlabel('Conversion day')\n",
    "#ax.axis('equal')\n",
    "ax.grid(True)\n",
    "ax.set_xlim([trend_df_conversion_rate_30.index[0], trend_df_conversion_rate_30.index[-1]])\n",
    "ax.set_ylim(0, 30)\n",
    "sns.despine()\n",
    "plt.tight_layout()"
   ]
  },
  {
   "cell_type": "markdown",
   "metadata": {},
   "source": [
    "# The last 30 days, rate of conversion is about five, dropping to 0 some days and a peak around November 27th at 15."
   ]
  },
  {
   "cell_type": "code",
   "execution_count": 52,
   "metadata": {},
   "outputs": [],
   "source": [
    "trend_ts_df_last_60_days = trend_ts_df[trend_ts_df.index >= \"2017-10-10\"]\n",
    "trend_ts_df_last_60_days_mean = trend_ts_df_last_60_days.groupby(\"funded\").mean()"
   ]
  },
  {
   "cell_type": "code",
   "execution_count": 53,
   "metadata": {},
   "outputs": [
    {
     "data": {
      "image/png": "[encoded data removed]",
      "text/plain": [
       "<Figure size 576x360 with 1 Axes>"
      ]
     },
     "metadata": {},
     "output_type": "display_data"
    }
   ],
   "source": [
    "sns.set_style('ticks')\n",
    "fig, ax = plt.subplots(figsize=(8,5))\n",
    "trend_ts_df_last_60_days_mean[\"conversion_length_d\"].plot(color=red)\n",
    "ax.set_xlabel(\"\")\n",
    "ax.set_ylabel(\"Length\")\n",
    "ax.legend([\"conversion_length_d\"])\n",
    "ax.set_title(\"Conversion Length over time\")\n",
    "ax.set_xticks([], minor=True) \n",
    "ax.set_xlim([trend_ts_df_last_60_days_mean.index[0], trend_ts_df_last_60_days_mean.index[-1]])\n",
    "sns.despine()\n",
    "plt.show()"
   ]
  },
  {
   "cell_type": "markdown",
   "metadata": {},
   "source": [
    "# Conversion length over time similar to the last 30 days."
   ]
  },
  {
   "cell_type": "code",
   "execution_count": 54,
   "metadata": {},
   "outputs": [
    {
     "data": {
      "image/png": "[encoded data removed]",
      "text/plain": [
       "<Figure size 576x360 with 1 Axes>"
      ]
     },
     "metadata": {},
     "output_type": "display_data"
    }
   ],
   "source": [
    "fig, ax = plt.subplots(figsize=(8,5))\n",
    "trend_df_conversion_rate_60 = trend_ts_df_last_60_days.groupby(\"funded\")[\"conversion_length_d\"].count().resample('D').mean()\n",
    "trend_df_conversion_rate_60.plot(kind='line',colormap='winter')\n",
    "plt.ylabel('Number conversion')\n",
    "plt.xlabel('Conversion day')\n",
    "ax.grid(True)\n",
    "ax.set_xlim([trend_df_conversion_rate_60.index[0], trend_df_conversion_rate_60.index[-1]])\n",
    "#ax.set_ylim(0, 0)\n",
    "sns.despine()\n",
    "plt.tight_layout()"
   ]
  },
  {
   "cell_type": "markdown",
   "metadata": {},
   "source": [
    "# Conversion rate around 6 with two peaks at 10 and 15 for the last 60 days, similar to what is observed for last 30 days."
   ]
  },
  {
   "cell_type": "markdown",
   "metadata": {},
   "source": [
    "# Conforming vs Jumbo loans\n",
    "1. What is the conversion rate from loan application to fund, broken down by conforming vs jumbo?\n",
    "2. How does it vary over time?\n",
    "3. How much worse is the conversion rate for jumbo, controlling for the loan amount?\n",
    "4. What about states? Are there particular states where it looks like our Jumbo has much worse conversion?\n"
   ]
  },
  {
   "cell_type": "code",
   "execution_count": 55,
   "metadata": {},
   "outputs": [],
   "source": [
    "loan_limits = pd.read_excel(\"data/FullCountyLoanLimitList2017_HERA-BASED_FINAL_FLAT.xlsx\", header=1)"
   ]
  },
  {
   "cell_type": "code",
   "execution_count": 56,
   "metadata": {},
   "outputs": [
    {
     "data": {
      "text/html": [
       "<div>\n",
       "<style scoped>\n",
       "    .dataframe tbody tr th:only-of-type {\n",
       "        vertical-align: middle;\n",
       "    }\n",
       "\n",
       "    .dataframe tbody tr th {\n",
       "        vertical-align: top;\n",
       "    }\n",
       "\n",
       "    .dataframe thead th {\n",
       "        text-align: right;\n",
       "    }\n",
       "</style>\n",
       "<table border=\"1\" class=\"dataframe\">\n",
       "  <thead>\n",
       "    <tr style=\"text-align: right;\">\n",
       "      <th></th>\n",
       "      <th>FIPS State Code</th>\n",
       "      <th>FIPS County Code</th>\n",
       "      <th>County Name</th>\n",
       "      <th>State</th>\n",
       "      <th>CBSA Number</th>\n",
       "      <th>One-Unit Limit</th>\n",
       "      <th>Two-Unit Limit</th>\n",
       "      <th>Three-Unit Limit</th>\n",
       "      <th>Four-Unit Limit</th>\n",
       "    </tr>\n",
       "  </thead>\n",
       "  <tbody>\n",
       "    <tr>\n",
       "      <th>0</th>\n",
       "      <td>1</td>\n",
       "      <td>1</td>\n",
       "      <td>AUTAUGA</td>\n",
       "      <td>AL</td>\n",
       "      <td>33860.000</td>\n",
       "      <td>424100</td>\n",
       "      <td>543000</td>\n",
       "      <td>656350</td>\n",
       "      <td>815650</td>\n",
       "    </tr>\n",
       "    <tr>\n",
       "      <th>1</th>\n",
       "      <td>1</td>\n",
       "      <td>3</td>\n",
       "      <td>BALDWIN</td>\n",
       "      <td>AL</td>\n",
       "      <td>19300.000</td>\n",
       "      <td>424100</td>\n",
       "      <td>543000</td>\n",
       "      <td>656350</td>\n",
       "      <td>815650</td>\n",
       "    </tr>\n",
       "    <tr>\n",
       "      <th>2</th>\n",
       "      <td>1</td>\n",
       "      <td>5</td>\n",
       "      <td>BARBOUR</td>\n",
       "      <td>AL</td>\n",
       "      <td>nan</td>\n",
       "      <td>424100</td>\n",
       "      <td>543000</td>\n",
       "      <td>656350</td>\n",
       "      <td>815650</td>\n",
       "    </tr>\n",
       "    <tr>\n",
       "      <th>3</th>\n",
       "      <td>1</td>\n",
       "      <td>7</td>\n",
       "      <td>BIBB</td>\n",
       "      <td>AL</td>\n",
       "      <td>13820.000</td>\n",
       "      <td>424100</td>\n",
       "      <td>543000</td>\n",
       "      <td>656350</td>\n",
       "      <td>815650</td>\n",
       "    </tr>\n",
       "    <tr>\n",
       "      <th>4</th>\n",
       "      <td>1</td>\n",
       "      <td>9</td>\n",
       "      <td>BLOUNT</td>\n",
       "      <td>AL</td>\n",
       "      <td>13820.000</td>\n",
       "      <td>424100</td>\n",
       "      <td>543000</td>\n",
       "      <td>656350</td>\n",
       "      <td>815650</td>\n",
       "    </tr>\n",
       "  </tbody>\n",
       "</table>\n",
       "</div>"
      ],
      "text/plain": [
       "   FIPS State Code  FIPS County Code County Name State  CBSA Number  \\\n",
       "0                1                 1     AUTAUGA    AL    33860.000   \n",
       "1                1                 3     BALDWIN    AL    19300.000   \n",
       "2                1                 5     BARBOUR    AL          nan   \n",
       "3                1                 7        BIBB    AL    13820.000   \n",
       "4                1                 9      BLOUNT    AL    13820.000   \n",
       "\n",
       "   One-Unit Limit  Two-Unit Limit  Three-Unit Limit  Four-Unit Limit  \n",
       "0          424100          543000            656350           815650  \n",
       "1          424100          543000            656350           815650  \n",
       "2          424100          543000            656350           815650  \n",
       "3          424100          543000            656350           815650  \n",
       "4          424100          543000            656350           815650  "
      ]
     },
     "execution_count": 56,
     "metadata": {},
     "output_type": "execute_result"
    }
   ],
   "source": [
    "loan_limits.head()"
   ]
  },
  {
   "cell_type": "code",
   "execution_count": 57,
   "metadata": {},
   "outputs": [
    {
     "data": {
      "image/png": "[encoded data removed]",
      "text/plain": [
       "<Figure size 1800x720 with 2 Axes>"
      ]
     },
     "metadata": {},
     "output_type": "display_data"
    }
   ],
   "source": [
    "msno.matrix(loan_limits);"
   ]
  },
  {
   "cell_type": "code",
   "execution_count": 58,
   "metadata": {},
   "outputs": [
    {
     "data": {
      "text/plain": [
       "FIPS State Code       int64\n",
       "FIPS County Code      int64\n",
       "County Name          object\n",
       "State                object\n",
       "CBSA Number         float64\n",
       "One-Unit Limit        int64\n",
       "Two-Unit Limit        int64\n",
       "Three-Unit Limit      int64\n",
       "Four-Unit Limit       int64\n",
       "dtype: object"
      ]
     },
     "execution_count": 58,
     "metadata": {},
     "output_type": "execute_result"
    }
   ],
   "source": [
    "loan_limits.dtypes"
   ]
  },
  {
   "cell_type": "code",
   "execution_count": 60,
   "metadata": {},
   "outputs": [],
   "source": [
    "GEOCODE_URL = \"https://geomap.ffiec.gov/FFIECGeocMap/GeocodeMap1.aspx/GetGeocodeData\"\n",
    "JSON_HEADER = {'content-type':'application/json'}\n",
    "def locate(address:str):\n",
    "    try:\n",
    "        geocode_data = {'sSingleLine': address, 'iCensusYear': \"2017\"}  \n",
    "        r = requests.post(GEOCODE_URL, data = json.dumps(geocode_data), headers=JSON_HEADER)\n",
    "        d = r.json()['d']\n",
    "        if d[\"sStateCode\"] and d[\"sCountyCode\"]:\n",
    "            return pd.Series([int(d[\"sStateCode\"]), int(d[\"sCountyCode\"])])\n",
    "        else:\n",
    "            return  pd.Series([np.nan, np.nan])\n",
    "    except:\n",
    "        print(\"Unexpected error:\", sys.exc_info()[0])\n",
    "        print(\"d={}\".format(d))\n",
    "        return pd.Series([np.nan, np.nan])"
   ]
  },
  {
   "cell_type": "code",
   "execution_count": 61,
   "metadata": {},
   "outputs": [
    {
     "name": "stdout",
     "output_type": "stream",
     "text": [
      "1045\n"
     ]
    },
    {
     "data": {
      "text/html": [
       "<div>\n",
       "<style scoped>\n",
       "    .dataframe tbody tr th:only-of-type {\n",
       "        vertical-align: middle;\n",
       "    }\n",
       "\n",
       "    .dataframe tbody tr th {\n",
       "        vertical-align: top;\n",
       "    }\n",
       "\n",
       "    .dataframe thead th {\n",
       "        text-align: right;\n",
       "    }\n",
       "</style>\n",
       "<table border=\"1\" class=\"dataframe\">\n",
       "  <thead>\n",
       "    <tr style=\"text-align: right;\">\n",
       "      <th></th>\n",
       "      <th>amount</th>\n",
       "      <th>address</th>\n",
       "      <th>created</th>\n",
       "      <th>funded</th>\n",
       "      <th>conversion_length_m</th>\n",
       "      <th>conversion_length_d</th>\n",
       "    </tr>\n",
       "  </thead>\n",
       "  <tbody>\n",
       "    <tr>\n",
       "      <th>1</th>\n",
       "      <td>413165.000</td>\n",
       "      <td>124 Vignolia Court, Roseville CA 95747</td>\n",
       "      <td>2016-10-11</td>\n",
       "      <td>2016-11-07</td>\n",
       "      <td>0.887</td>\n",
       "      <td>27.000</td>\n",
       "    </tr>\n",
       "    <tr>\n",
       "      <th>6</th>\n",
       "      <td>504193.000</td>\n",
       "      <td>10190 Brixton Pl, Suwanee GA 30024</td>\n",
       "      <td>2017-08-18</td>\n",
       "      <td>2017-09-18</td>\n",
       "      <td>1.019</td>\n",
       "      <td>31.000</td>\n",
       "    </tr>\n",
       "    <tr>\n",
       "      <th>8</th>\n",
       "      <td>275236.000</td>\n",
       "      <td>1952 S St SE, Washington DC 20020</td>\n",
       "      <td>2017-09-23</td>\n",
       "      <td>2017-11-15</td>\n",
       "      <td>1.741</td>\n",
       "      <td>53.000</td>\n",
       "    </tr>\n",
       "    <tr>\n",
       "      <th>37</th>\n",
       "      <td>287472.000</td>\n",
       "      <td>7498 NE 156th St, Kenmore WA 98028</td>\n",
       "      <td>2016-11-21</td>\n",
       "      <td>2016-12-30</td>\n",
       "      <td>1.281</td>\n",
       "      <td>39.000</td>\n",
       "    </tr>\n",
       "    <tr>\n",
       "      <th>40</th>\n",
       "      <td>254942.000</td>\n",
       "      <td>3212-3214 W 157th St, Gardena CA 90249</td>\n",
       "      <td>2016-10-01</td>\n",
       "      <td>2016-11-18</td>\n",
       "      <td>1.577</td>\n",
       "      <td>48.000</td>\n",
       "    </tr>\n",
       "  </tbody>\n",
       "</table>\n",
       "</div>"
      ],
      "text/plain": [
       "       amount                                 address    created     funded  \\\n",
       "1  413165.000  124 Vignolia Court, Roseville CA 95747 2016-10-11 2016-11-07   \n",
       "6  504193.000      10190 Brixton Pl, Suwanee GA 30024 2017-08-18 2017-09-18   \n",
       "8  275236.000       1952 S St SE, Washington DC 20020 2017-09-23 2017-11-15   \n",
       "37 287472.000      7498 NE 156th St, Kenmore WA 98028 2016-11-21 2016-12-30   \n",
       "40 254942.000  3212-3214 W 157th St, Gardena CA 90249 2016-10-01 2016-11-18   \n",
       "\n",
       "    conversion_length_m  conversion_length_d  \n",
       "1                 0.887               27.000  \n",
       "6                 1.019               31.000  \n",
       "8                 1.741               53.000  \n",
       "37                1.281               39.000  \n",
       "40                1.577               48.000  "
      ]
     },
     "execution_count": 61,
     "metadata": {},
     "output_type": "execute_result"
    }
   ],
   "source": [
    "df_no_nan = df_no_nan[df_no_nan[\"conversion_length_d\"] != 430]\n",
    "print(len(df_no_nan))\n",
    "df_no_nan = df_no_nan.drop([\"converted\"], axis=1)\n",
    "df_no_nan.head()"
   ]
  },
  {
   "cell_type": "code",
   "execution_count": 62,
   "metadata": {},
   "outputs": [
    {
     "data": {
      "text/html": [
       "<div>\n",
       "<style scoped>\n",
       "    .dataframe tbody tr th:only-of-type {\n",
       "        vertical-align: middle;\n",
       "    }\n",
       "\n",
       "    .dataframe tbody tr th {\n",
       "        vertical-align: top;\n",
       "    }\n",
       "\n",
       "    .dataframe thead th {\n",
       "        text-align: right;\n",
       "    }\n",
       "</style>\n",
       "<table border=\"1\" class=\"dataframe\">\n",
       "  <thead>\n",
       "    <tr style=\"text-align: right;\">\n",
       "      <th></th>\n",
       "      <th>amount</th>\n",
       "      <th>address</th>\n",
       "      <th>created</th>\n",
       "      <th>funded</th>\n",
       "      <th>conversion_length_m</th>\n",
       "      <th>conversion_length_d</th>\n",
       "      <th>state_code</th>\n",
       "      <th>county_code</th>\n",
       "    </tr>\n",
       "  </thead>\n",
       "  <tbody>\n",
       "    <tr>\n",
       "      <th>1</th>\n",
       "      <td>413165.000</td>\n",
       "      <td>124 Vignolia Court, Roseville CA 95747</td>\n",
       "      <td>2016-10-11</td>\n",
       "      <td>2016-11-07</td>\n",
       "      <td>0.887</td>\n",
       "      <td>27.000</td>\n",
       "      <td>6.000</td>\n",
       "      <td>61.000</td>\n",
       "    </tr>\n",
       "    <tr>\n",
       "      <th>6</th>\n",
       "      <td>504193.000</td>\n",
       "      <td>10190 Brixton Pl, Suwanee GA 30024</td>\n",
       "      <td>2017-08-18</td>\n",
       "      <td>2017-09-18</td>\n",
       "      <td>1.019</td>\n",
       "      <td>31.000</td>\n",
       "      <td>13.000</td>\n",
       "      <td>117.000</td>\n",
       "    </tr>\n",
       "    <tr>\n",
       "      <th>8</th>\n",
       "      <td>275236.000</td>\n",
       "      <td>1952 S St SE, Washington DC 20020</td>\n",
       "      <td>2017-09-23</td>\n",
       "      <td>2017-11-15</td>\n",
       "      <td>1.741</td>\n",
       "      <td>53.000</td>\n",
       "      <td>11.000</td>\n",
       "      <td>1.000</td>\n",
       "    </tr>\n",
       "    <tr>\n",
       "      <th>37</th>\n",
       "      <td>287472.000</td>\n",
       "      <td>7498 NE 156th St, Kenmore WA 98028</td>\n",
       "      <td>2016-11-21</td>\n",
       "      <td>2016-12-30</td>\n",
       "      <td>1.281</td>\n",
       "      <td>39.000</td>\n",
       "      <td>53.000</td>\n",
       "      <td>33.000</td>\n",
       "    </tr>\n",
       "    <tr>\n",
       "      <th>40</th>\n",
       "      <td>254942.000</td>\n",
       "      <td>3212-3214 W 157th St, Gardena CA 90249</td>\n",
       "      <td>2016-10-01</td>\n",
       "      <td>2016-11-18</td>\n",
       "      <td>1.577</td>\n",
       "      <td>48.000</td>\n",
       "      <td>6.000</td>\n",
       "      <td>37.000</td>\n",
       "    </tr>\n",
       "  </tbody>\n",
       "</table>\n",
       "</div>"
      ],
      "text/plain": [
       "       amount                                 address    created     funded  \\\n",
       "1  413165.000  124 Vignolia Court, Roseville CA 95747 2016-10-11 2016-11-07   \n",
       "6  504193.000      10190 Brixton Pl, Suwanee GA 30024 2017-08-18 2017-09-18   \n",
       "8  275236.000       1952 S St SE, Washington DC 20020 2017-09-23 2017-11-15   \n",
       "37 287472.000      7498 NE 156th St, Kenmore WA 98028 2016-11-21 2016-12-30   \n",
       "40 254942.000  3212-3214 W 157th St, Gardena CA 90249 2016-10-01 2016-11-18   \n",
       "\n",
       "    conversion_length_m  conversion_length_d  state_code  county_code  \n",
       "1                 0.887               27.000       6.000       61.000  \n",
       "6                 1.019               31.000      13.000      117.000  \n",
       "8                 1.741               53.000      11.000        1.000  \n",
       "37                1.281               39.000      53.000       33.000  \n",
       "40                1.577               48.000       6.000       37.000  "
      ]
     },
     "execution_count": 62,
     "metadata": {},
     "output_type": "execute_result"
    }
   ],
   "source": [
    "df_no_nan[[\"state_code\", \"county_code\"]] = df_no_nan[\"address\"].apply(locate)\n",
    "df_no_nan.head()"
   ]
  },
  {
   "cell_type": "code",
   "execution_count": 63,
   "metadata": {},
   "outputs": [
    {
     "name": "stdout",
     "output_type": "stream",
     "text": [
      "Total=1045,\n",
      "Nan=amount                  0\n",
      "address                 0\n",
      "created                 0\n",
      "funded                  0\n",
      "conversion_length_m     0\n",
      "conversion_length_d     0\n",
      "state_code             77\n",
      "county_code            77\n",
      "dtype: int64\n"
     ]
    }
   ],
   "source": [
    "print(\"Total={},\\nNan={}\".format(len(df_no_nan), df_no_nan.isnull().sum()))"
   ]
  },
  {
   "cell_type": "code",
   "execution_count": 64,
   "metadata": {},
   "outputs": [
    {
     "data": {
      "text/plain": [
       "968"
      ]
     },
     "execution_count": 64,
     "metadata": {},
     "output_type": "execute_result"
    }
   ],
   "source": [
    "df_no_nan.dropna(inplace=True)\n",
    "len(df_no_nan)"
   ]
  },
  {
   "cell_type": "code",
   "execution_count": 65,
   "metadata": {},
   "outputs": [],
   "source": [
    "df_no_nan.state_code = df_no_nan.state_code.astype(int)\n",
    "df_no_nan.county_code = df_no_nan.county_code.astype(int)"
   ]
  },
  {
   "cell_type": "code",
   "execution_count": 68,
   "metadata": {},
   "outputs": [],
   "source": [
    "# Saving the data\n",
    "df_no_nan.to_csv(\"data/gps_loan.csv\")"
   ]
  },
  {
   "cell_type": "code",
   "execution_count": 69,
   "metadata": {},
   "outputs": [
    {
     "data": {
      "text/html": [
       "<div>\n",
       "<style scoped>\n",
       "    .dataframe tbody tr th:only-of-type {\n",
       "        vertical-align: middle;\n",
       "    }\n",
       "\n",
       "    .dataframe tbody tr th {\n",
       "        vertical-align: top;\n",
       "    }\n",
       "\n",
       "    .dataframe thead th {\n",
       "        text-align: right;\n",
       "    }\n",
       "</style>\n",
       "<table border=\"1\" class=\"dataframe\">\n",
       "  <thead>\n",
       "    <tr style=\"text-align: right;\">\n",
       "      <th></th>\n",
       "      <th>Unnamed: 0</th>\n",
       "      <th>amount</th>\n",
       "      <th>address</th>\n",
       "      <th>created</th>\n",
       "      <th>funded</th>\n",
       "      <th>conversion_length_m</th>\n",
       "      <th>conversion_length_d</th>\n",
       "      <th>state_code</th>\n",
       "      <th>county_code</th>\n",
       "    </tr>\n",
       "  </thead>\n",
       "  <tbody>\n",
       "    <tr>\n",
       "      <th>0</th>\n",
       "      <td>1</td>\n",
       "      <td>413165.000</td>\n",
       "      <td>124 Vignolia Court, Roseville CA 95747</td>\n",
       "      <td>2016-10-11</td>\n",
       "      <td>2016-11-07</td>\n",
       "      <td>0.887</td>\n",
       "      <td>27.000</td>\n",
       "      <td>6</td>\n",
       "      <td>61</td>\n",
       "    </tr>\n",
       "    <tr>\n",
       "      <th>1</th>\n",
       "      <td>6</td>\n",
       "      <td>504193.000</td>\n",
       "      <td>10190 Brixton Pl, Suwanee GA 30024</td>\n",
       "      <td>2017-08-18</td>\n",
       "      <td>2017-09-18</td>\n",
       "      <td>1.019</td>\n",
       "      <td>31.000</td>\n",
       "      <td>13</td>\n",
       "      <td>117</td>\n",
       "    </tr>\n",
       "    <tr>\n",
       "      <th>2</th>\n",
       "      <td>8</td>\n",
       "      <td>275236.000</td>\n",
       "      <td>1952 S St SE, Washington DC 20020</td>\n",
       "      <td>2017-09-23</td>\n",
       "      <td>2017-11-15</td>\n",
       "      <td>1.741</td>\n",
       "      <td>53.000</td>\n",
       "      <td>11</td>\n",
       "      <td>1</td>\n",
       "    </tr>\n",
       "    <tr>\n",
       "      <th>3</th>\n",
       "      <td>37</td>\n",
       "      <td>287472.000</td>\n",
       "      <td>7498 NE 156th St, Kenmore WA 98028</td>\n",
       "      <td>2016-11-21</td>\n",
       "      <td>2016-12-30</td>\n",
       "      <td>1.281</td>\n",
       "      <td>39.000</td>\n",
       "      <td>53</td>\n",
       "      <td>33</td>\n",
       "    </tr>\n",
       "    <tr>\n",
       "      <th>4</th>\n",
       "      <td>40</td>\n",
       "      <td>254942.000</td>\n",
       "      <td>3212-3214 W 157th St, Gardena CA 90249</td>\n",
       "      <td>2016-10-01</td>\n",
       "      <td>2016-11-18</td>\n",
       "      <td>1.577</td>\n",
       "      <td>48.000</td>\n",
       "      <td>6</td>\n",
       "      <td>37</td>\n",
       "    </tr>\n",
       "  </tbody>\n",
       "</table>\n",
       "</div>"
      ],
      "text/plain": [
       "   Unnamed: 0     amount                                 address     created  \\\n",
       "0           1 413165.000  124 Vignolia Court, Roseville CA 95747  2016-10-11   \n",
       "1           6 504193.000      10190 Brixton Pl, Suwanee GA 30024  2017-08-18   \n",
       "2           8 275236.000       1952 S St SE, Washington DC 20020  2017-09-23   \n",
       "3          37 287472.000      7498 NE 156th St, Kenmore WA 98028  2016-11-21   \n",
       "4          40 254942.000  3212-3214 W 157th St, Gardena CA 90249  2016-10-01   \n",
       "\n",
       "       funded  conversion_length_m  conversion_length_d  state_code  \\\n",
       "0  2016-11-07                0.887               27.000           6   \n",
       "1  2017-09-18                1.019               31.000          13   \n",
       "2  2017-11-15                1.741               53.000          11   \n",
       "3  2016-12-30                1.281               39.000          53   \n",
       "4  2016-11-18                1.577               48.000           6   \n",
       "\n",
       "   county_code  \n",
       "0           61  \n",
       "1          117  \n",
       "2            1  \n",
       "3           33  \n",
       "4           37  "
      ]
     },
     "execution_count": 69,
     "metadata": {},
     "output_type": "execute_result"
    }
   ],
   "source": [
    "df_no_nan = pd.read_csv(\"data/gps_loan.csv\", sep=\",\")\n",
    "df_no_nan.head()"
   ]
  },
  {
   "cell_type": "code",
   "execution_count": null,
   "metadata": {},
   "outputs": [],
   "source": []
  }
 ],
 "metadata": {
  "kernelspec": {
   "display_name": "Python 3",
   "language": "python",
   "name": "python3"
  },
  "language_info": {
   "codemirror_mode": {
    "name": "ipython",
    "version": 3
   },
   "file_extension": ".py",
   "mimetype": "text/x-python",
   "name": "python",
   "nbconvert_exporter": "python",
   "pygments_lexer": "ipython3",
   "version": "3.7.3"
  }
 },
 "nbformat": 4,
 "nbformat_minor": 4
}
